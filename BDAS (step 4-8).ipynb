{
 "cells": [
  {
   "cell_type": "code",
   "execution_count": 1,
   "metadata": {},
   "outputs": [],
   "source": [
    "# Must be included at the beginning of each new notebook. Remember to change the app name.\n",
    "import findspark\n",
    "findspark.init('/home/ubuntu/spark-2.1.1-bin-hadoop2.7')\n",
    "import pyspark\n",
    "from pyspark.sql import SparkSession\n",
    "spark = SparkSession.builder.appName('BDAS').getOrCreate()"
   ]
  },
  {
   "cell_type": "code",
   "execution_count": 2,
   "metadata": {},
   "outputs": [],
   "source": [
    "import pandas as pd"
   ]
  },
  {
   "cell_type": "code",
   "execution_count": 3,
   "metadata": {},
   "outputs": [],
   "source": [
    "df35 = spark.read.csv('1-3.csv',inferSchema=True,header=True)"
   ]
  },
  {
   "cell_type": "code",
   "execution_count": 4,
   "metadata": {},
   "outputs": [
    {
     "name": "stdout",
     "output_type": "stream",
     "text": [
      "(8866, 132)\n"
     ]
    }
   ],
   "source": [
    "print((df35.count(), len(df35.columns)))"
   ]
  },
  {
   "cell_type": "code",
   "execution_count": 5,
   "metadata": {},
   "outputs": [
    {
     "data": {
      "text/plain": [
       "['rooms',\n",
       " 'v18q',\n",
       " 'r4h1',\n",
       " 'r4m1',\n",
       " 'r4t1',\n",
       " 'escolari',\n",
       " 'paredblolad',\n",
       " 'pisomoscer',\n",
       " 'cielorazo',\n",
       " 'epared1',\n",
       " 'epared3',\n",
       " 'etecho3',\n",
       " 'eviv1',\n",
       " 'eviv3',\n",
       " 'hogar_nin',\n",
       " 'edjefe',\n",
       " 'edjefa',\n",
       " 'meaneduc',\n",
       " 'instlevel8',\n",
       " 'overcrowding',\n",
       " 'qmobilephone',\n",
       " 'dependency_rate',\n",
       " 'Target2']"
      ]
     },
     "execution_count": 5,
     "metadata": {},
     "output_type": "execute_result"
    }
   ],
   "source": [
    "columns = df35.columns\n",
    "names = []\n",
    "for c1 in columns:\n",
    "        corr = df35.corr(c1, 'Target2')\n",
    "        if abs(corr) >= 0.2:\n",
    "            names.append(c1)\n",
    "names"
   ]
  },
  {
   "cell_type": "code",
   "execution_count": 6,
   "metadata": {},
   "outputs": [],
   "source": [
    "df42 = df35.select('rooms',\n",
    " 'v18q',\n",
    " 'r4h1',\n",
    " 'r4m1',\n",
    " 'r4t1',\n",
    " 'escolari',\n",
    " 'paredblolad',\n",
    " 'pisomoscer',\n",
    " 'cielorazo',\n",
    " 'epared1',\n",
    " 'epared3',\n",
    " 'etecho3',\n",
    " 'eviv1',\n",
    " 'eviv3',\n",
    " 'hogar_nin',\n",
    " 'edjefe',\n",
    " 'edjefa',\n",
    " 'meaneduc',\n",
    " 'instlevel8',\n",
    " 'overcrowding',\n",
    " 'qmobilephone',\n",
    " 'dependency_rate',\n",
    " 'Target2')"
   ]
  },
  {
   "cell_type": "code",
   "execution_count": 7,
   "metadata": {},
   "outputs": [
    {
     "data": {
      "text/plain": [
       "<matplotlib.axes._subplots.AxesSubplot at 0x7f964f7ce908>"
      ]
     },
     "execution_count": 7,
     "metadata": {},
     "output_type": "execute_result"
    }
   ],
   "source": [
    "import seaborn as sns\n",
    "\n",
    "sns.countplot(\"Target2\", data=df42.toPandas())"
   ]
  },
  {
   "cell_type": "code",
   "execution_count": 8,
   "metadata": {},
   "outputs": [],
   "source": [
    "df_a = df42.filter(df42['Target2'] == 4)\n",
    "df_b = df42.filter(df42['Target2'] == 1)\n",
    "df_c = df42.filter(df42['Target2'] == 2)\n",
    "df_d = df42.filter(df42['Target2'] == 3)\n",
    "\n",
    "a_count = df_a.count()\n",
    "b_count = df_b.count()\n",
    "c_count = df_c.count() \n",
    "d_count = df_d.count() \n",
    "\n",
    "ratio = a_count / b_count\n",
    "ratio2 = a_count / c_count\n",
    "ratio3 = a_count / d_count\n",
    "\n",
    "df_b_overampled = df_b.sample(withReplacement=True, fraction=ratio, seed=1)\n",
    "df_c_overampled = df_c.sample(withReplacement=True, fraction=ratio2, seed=1)\n",
    "df_d_overampled = df_d.sample(withReplacement=True, fraction=ratio3, seed=1)\n",
    "\n",
    "\n",
    "df = df_a.unionAll(df_b_overampled)\n",
    "df2 = df.unionAll(df_c_overampled)\n",
    "df42 = df2.unionAll(df_d_overampled)"
   ]
  },
  {
   "cell_type": "code",
   "execution_count": 9,
   "metadata": {},
   "outputs": [
    {
     "data": {
      "text/plain": [
       "<matplotlib.axes._subplots.AxesSubplot at 0x7f964f739b70>"
      ]
     },
     "execution_count": 9,
     "metadata": {},
     "output_type": "execute_result"
    },
    {
     "data": {
      "image/png": "[encoded data removed]",
      "text/plain": [
       "<Figure size 432x288 with 1 Axes>"
      ]
     },
     "metadata": {},
     "output_type": "display_data"
    }
   ],
   "source": [
    "import seaborn as sns\n",
    "\n",
    "sns.countplot(\"Target2\", data=df42.toPandas())"
   ]
  },
  {
   "cell_type": "code",
   "execution_count": 10,
   "metadata": {},
   "outputs": [
    {
     "name": "stdout",
     "output_type": "stream",
     "text": [
      "(22303, 23)\n"
     ]
    }
   ],
   "source": [
    "print((df42.count(), len(df42.columns)))"
   ]
  },
  {
   "cell_type": "code",
   "execution_count": 11,
   "metadata": {},
   "outputs": [
    {
     "name": "stdout",
     "output_type": "stream",
     "text": [
      "['rooms', 'v18q', 'r4h1', 'r4m1', 'r4t1', 'escolari', 'paredblolad', 'pisomoscer', 'cielorazo', 'epared1', 'epared3', 'etecho3', 'eviv1', 'eviv3', 'hogar_nin', 'edjefe', 'edjefa', 'meaneduc', 'instlevel8', 'overcrowding', 'qmobilephone', 'dependency_rate', 'Target2']\n",
      "Row(rooms=6, v18q=0, r4h1=0, r4m1=0, r4t1=0, escolari=6, paredblolad=0, pisomoscer=1, cielorazo=1, epared1=1, epared3=0, etecho3=0, eviv1=0, eviv3=1, hogar_nin=0, edjefe=6, edjefa=6, meaneduc=6.75, instlevel8=0, overcrowding=1.0, qmobilephone=4, dependency_rate=0.0, Target2=4)\n"
     ]
    }
   ],
   "source": [
    "print(df42.columns)\n",
    "print(df42.head())"
   ]
  },
  {
   "cell_type": "code",
   "execution_count": 12,
   "metadata": {},
   "outputs": [
    {
     "data": {
      "text/plain": [
       "89"
      ]
     },
     "execution_count": 12,
     "metadata": {},
     "output_type": "execute_result"
    }
   ],
   "source": [
    "import gc\n",
    "del df\n",
    "del df2\n",
    "gc.collect()"
   ]
  },
  {
   "cell_type": "code",
   "execution_count": 13,
   "metadata": {},
   "outputs": [],
   "source": [
    "from pyspark.ml.classification import DecisionTreeClassifier\n",
    "from pyspark.ml.feature import VectorAssembler\n",
    "\n",
    "assembler = VectorAssembler(\n",
    "   inputCols=df42.columns[0:22], outputCol=\"features\")\n",
    "output61 = assembler.transform(df42)"
   ]
  },
  {
   "cell_type": "code",
   "execution_count": 14,
   "metadata": {},
   "outputs": [],
   "source": [
    "from pyspark.ml.feature import StringIndexer\n",
    "\n",
    "indexer = StringIndexer(inputCol=\"Target2\", outputCol=\"targetIndex\")\n",
    "output_fixed = indexer.fit(output61).transform(output61)\n",
    "final_data = output_fixed.select(\"features\",'targetIndex')"
   ]
  },
  {
   "cell_type": "code",
   "execution_count": 15,
   "metadata": {},
   "outputs": [
    {
     "name": "stdout",
     "output_type": "stream",
     "text": [
      "root\n",
      " |-- rooms: integer (nullable = true)\n",
      " |-- v18q: integer (nullable = true)\n",
      " |-- r4h1: integer (nullable = true)\n",
      " |-- r4m1: integer (nullable = true)\n",
      " |-- r4t1: integer (nullable = true)\n",
      " |-- escolari: integer (nullable = true)\n",
      " |-- paredblolad: integer (nullable = true)\n",
      " |-- pisomoscer: integer (nullable = true)\n",
      " |-- cielorazo: integer (nullable = true)\n",
      " |-- epared1: integer (nullable = true)\n",
      " |-- epared3: integer (nullable = true)\n",
      " |-- etecho3: integer (nullable = true)\n",
      " |-- eviv1: integer (nullable = true)\n",
      " |-- eviv3: integer (nullable = true)\n",
      " |-- hogar_nin: integer (nullable = true)\n",
      " |-- edjefe: integer (nullable = true)\n",
      " |-- edjefa: integer (nullable = true)\n",
      " |-- meaneduc: double (nullable = true)\n",
      " |-- instlevel8: integer (nullable = true)\n",
      " |-- overcrowding: double (nullable = true)\n",
      " |-- qmobilephone: integer (nullable = true)\n",
      " |-- dependency_rate: double (nullable = true)\n",
      " |-- Target2: integer (nullable = true)\n",
      " |-- features: vector (nullable = true)\n",
      " |-- targetIndex: double (nullable = true)\n",
      "\n",
      "None\n",
      "Row(features=SparseVector(22, {0: 6.0, 5: 6.0, 7: 1.0, 8: 1.0, 9: 1.0, 13: 1.0, 15: 6.0, 16: 6.0, 17: 6.75, 19: 1.0, 20: 4.0}), targetIndex=0.0)\n"
     ]
    }
   ],
   "source": [
    "print(output_fixed.printSchema())\n",
    "print(final_data.head())"
   ]
  },
  {
   "cell_type": "code",
   "execution_count": 16,
   "metadata": {},
   "outputs": [],
   "source": [
    "dtc = DecisionTreeClassifier(labelCol='targetIndex',featuresCol='features')\n",
    "dtc_model = dtc.fit(final_data)"
   ]
  },
  {
   "cell_type": "code",
   "execution_count": 17,
   "metadata": {},
   "outputs": [
    {
     "name": "stdout",
     "output_type": "stream",
     "text": [
      "DecisionTreeClassificationModel (uid=DecisionTreeClassifier_446eb210bf514b4effe1) of depth 5 with 61 nodes\n",
      "  If (feature 17 <= 11.0)\n",
      "   If (feature 4 <= 1.0)\n",
      "    If (feature 17 <= 6.3333335)\n",
      "     If (feature 10 <= 0.0)\n",
      "      If (feature 15 <= 4.0)\n",
      "       Predict: 1.0\n",
      "      Else (feature 15 > 4.0)\n",
      "       Predict: 2.0\n",
      "     Else (feature 10 > 0.0)\n",
      "      If (feature 19 <= 1.3333334)\n",
      "       Predict: 3.0\n",
      "      Else (feature 19 > 1.3333334)\n",
      "       Predict: 2.0\n",
      "    Else (feature 17 > 6.3333335)\n",
      "     If (feature 14 <= 0.0)\n",
      "      If (feature 20 <= 2.0)\n",
      "       Predict: 0.0\n",
      "      Else (feature 20 > 2.0)\n",
      "       Predict: 0.0\n",
      "     Else (feature 14 > 0.0)\n",
      "      If (feature 17 <= 9.0)\n",
      "       Predict: 3.0\n",
      "      Else (feature 17 > 9.0)\n",
      "       Predict: 0.0\n",
      "   Else (feature 4 > 1.0)\n",
      "    If (feature 15 <= 3.0)\n",
      "     If (feature 20 <= 3.0)\n",
      "      If (feature 8 <= 0.0)\n",
      "       Predict: 1.0\n",
      "      Else (feature 8 > 0.0)\n",
      "       Predict: 1.0\n",
      "     Else (feature 20 > 3.0)\n",
      "      If (feature 1 <= 0.0)\n",
      "       Predict: 1.0\n",
      "      Else (feature 1 > 0.0)\n",
      "       Predict: 3.0\n",
      "    Else (feature 15 > 3.0)\n",
      "     If (feature 19 <= 1.4)\n",
      "      If (feature 17 <= 10.0)\n",
      "       Predict: 3.0\n",
      "      Else (feature 17 > 10.0)\n",
      "       Predict: 0.0\n",
      "     Else (feature 19 > 1.4)\n",
      "      If (feature 14 <= 4.0)\n",
      "       Predict: 2.0\n",
      "      Else (feature 14 > 4.0)\n",
      "       Predict: 1.0\n",
      "  Else (feature 17 > 11.0)\n",
      "   If (feature 8 <= 0.0)\n",
      "    If (feature 19 <= 2.5)\n",
      "     If (feature 17 <= 11.4)\n",
      "      If (feature 9 <= 0.0)\n",
      "       Predict: 3.0\n",
      "      Else (feature 9 > 0.0)\n",
      "       Predict: 0.0\n",
      "     Else (feature 17 > 11.4)\n",
      "      If (feature 21 <= 0.4)\n",
      "       Predict: 0.0\n",
      "      Else (feature 21 > 0.4)\n",
      "       Predict: 2.0\n",
      "    Else (feature 19 > 2.5)\n",
      "     If (feature 4 <= 0.0)\n",
      "      Predict: 1.0\n",
      "     Else (feature 4 > 0.0)\n",
      "      If (feature 14 <= 2.0)\n",
      "       Predict: 1.0\n",
      "      Else (feature 14 > 2.0)\n",
      "       Predict: 2.0\n",
      "   Else (feature 8 > 0.0)\n",
      "    If (feature 6 <= 0.0)\n",
      "     If (feature 20 <= 4.0)\n",
      "      If (feature 15 <= 0.0)\n",
      "       Predict: 1.0\n",
      "      Else (feature 15 > 0.0)\n",
      "       Predict: 0.0\n",
      "     Else (feature 20 > 4.0)\n",
      "      If (feature 2 <= 0.0)\n",
      "       Predict: 3.0\n",
      "      Else (feature 2 > 0.0)\n",
      "       Predict: 2.0\n",
      "    Else (feature 6 > 0.0)\n",
      "     If (feature 0 <= 4.0)\n",
      "      If (feature 2 <= 0.0)\n",
      "       Predict: 0.0\n",
      "      Else (feature 2 > 0.0)\n",
      "       Predict: 2.0\n",
      "     Else (feature 0 > 4.0)\n",
      "      If (feature 10 <= 0.0)\n",
      "       Predict: 0.0\n",
      "      Else (feature 10 > 0.0)\n",
      "       Predict: 0.0\n",
      "\n"
     ]
    }
   ],
   "source": [
    "print(dtc_model.toDebugString)"
   ]
  },
  {
   "cell_type": "code",
   "execution_count": 18,
   "metadata": {},
   "outputs": [],
   "source": [
    "import json\n",
    "\n",
    "\n",
    "def parse(lines):\n",
    "\tblock = []\n",
    "\twhile lines :\n",
    "\t\tif lines[0].startswith('If'):\n",
    "\t\t\tbl = ' '.join(lines.pop(0).split()[1:]).replace('(', '').replace(')', '')\n",
    "\t\t\tblock.append({'name':bl, 'children':parse(lines)})\n",
    "\t\t\t\t\n",
    "\t\t\t\t\n",
    "\t\t\tif lines[0].startswith('Else'):\n",
    "\t\t\t\tbe = ' '.join(lines.pop(0).split()[1:]).replace('(', '').replace(')', '')\n",
    "\t\t\t\tblock.append({'name':be, 'children':parse(lines)})\n",
    "\t\telif not lines[0].startswith(('If','Else')):\n",
    "\t\t\tblock2 = lines.pop(0)\n",
    "\t\t\tblock.append({'name':block2})\n",
    "\t\telse:\n",
    "\t\t\tbreak\t\n",
    "\treturn block\n",
    "\t\n",
    "\t# Convert Tree to JSON\n",
    "def tree_json(tree):\n",
    "\tdata = []\n",
    "\tfor line in tree.splitlines() : \n",
    "\t\tif line.strip():\n",
    "\t\t\tline = line.strip()\n",
    "\t\t\tdata.append(line)\n",
    "\t\telse : break\n",
    "\t\tif not line : break\n",
    "\tres = []\n",
    "\tres.append({'name':'Root', 'children':parse(data[1:])})\n",
    "\twith open('Decision-Tree-Visualization-Spark/data/structure.json', 'w') as outfile:\n",
    "\t\tjson.dump(res[0], outfile)\n",
    "\tprint ('Conversion Success !')\n",
    "\n",
    "def tree_feature_json(tree, columns):\n",
    "    tree_str = tree\n",
    "    for i in range(len(columns)-1, -1, -1):\n",
    "        tree_str = tree_str.replace(\"feature \"+str(i), columns[i])\n",
    "    tree_json(tree_str)"
   ]
  },
  {
   "cell_type": "code",
   "execution_count": 19,
   "metadata": {},
   "outputs": [
    {
     "name": "stdout",
     "output_type": "stream",
     "text": [
      "Conversion Success !\n"
     ]
    }
   ],
   "source": [
    "tree_feature_json(dtc_model.toDebugString, df42.columns)"
   ]
  },
  {
   "cell_type": "code",
   "execution_count": 20,
   "metadata": {},
   "outputs": [],
   "source": [
    "from pyspark.ml.evaluation import BinaryClassificationEvaluator\n",
    "my_binary_eval = BinaryClassificationEvaluator(labelCol = 'targetIndex')"
   ]
  },
  {
   "cell_type": "code",
   "execution_count": 21,
   "metadata": {},
   "outputs": [
    {
     "name": "stdout",
     "output_type": "stream",
     "text": [
      "Conversion Success !\n",
      "0.660901680728005\n"
     ]
    }
   ],
   "source": [
    "dtc3 = DecisionTreeClassifier(labelCol='targetIndex',featuresCol='features', maxDepth=10)\n",
    "dtc_model3 = dtc3.fit(final_data)\n",
    "\n",
    "tree_feature_json(dtc_model3.toDebugString, df42.columns)\n",
    "\n",
    "dtc_predictions3 = dtc_model3.transform(final_data)\n",
    "print(my_binary_eval.evaluate(dtc_predictions3))"
   ]
  },
  {
   "cell_type": "code",
   "execution_count": 22,
   "metadata": {},
   "outputs": [
    {
     "name": "stdout",
     "output_type": "stream",
     "text": [
      "Conversion Success !\n",
      "0.7375963213326748\n"
     ]
    }
   ],
   "source": [
    "dtc4 = DecisionTreeClassifier(labelCol='targetIndex',featuresCol='features', maxDepth=4)\n",
    "dtc_model4 = dtc4.fit(final_data)\n",
    "\n",
    "tree_feature_json(dtc_model4.toDebugString, df42.columns)\n",
    "\n",
    "dtc_predictions4 = dtc_model4.transform(final_data)\n",
    "print(my_binary_eval.evaluate(dtc_predictions4))"
   ]
  },
  {
   "cell_type": "code",
   "execution_count": 23,
   "metadata": {},
   "outputs": [
    {
     "name": "stdout",
     "output_type": "stream",
     "text": [
      "Conversion Success !\n",
      "0.7463262448816284\n"
     ]
    }
   ],
   "source": [
    "dtc5 = DecisionTreeClassifier(labelCol='targetIndex',featuresCol='features', maxDepth=5)\n",
    "dtc_model5 = dtc5.fit(final_data)\n",
    "\n",
    "tree_feature_json(dtc_model5.toDebugString, df42.columns)\n",
    "\n",
    "dtc_predictions5 = dtc_model5.transform(final_data)\n",
    "print(my_binary_eval.evaluate(dtc_predictions5))"
   ]
  },
  {
   "cell_type": "code",
   "execution_count": 24,
   "metadata": {},
   "outputs": [
    {
     "name": "stdout",
     "output_type": "stream",
     "text": [
      "Conversion Success !\n",
      "0.7172957515145547\n"
     ]
    }
   ],
   "source": [
    "dtc63 = DecisionTreeClassifier(labelCol='targetIndex',featuresCol='features', maxDepth=4, minInstancesPerNode=2000)\n",
    "dtc_model63 = dtc63.fit(final_data)\n",
    "\n",
    "tree_feature_json(dtc_model63.toDebugString, df42.columns)\n",
    "\n",
    "dtc_predictions63 = dtc_model63.transform(final_data)\n",
    "print(my_binary_eval.evaluate(dtc_predictions63))"
   ]
  },
  {
   "cell_type": "code",
   "execution_count": 25,
   "metadata": {},
   "outputs": [
    {
     "name": "stdout",
     "output_type": "stream",
     "text": [
      "(17919, 2)\n",
      "(4384, 2)\n"
     ]
    }
   ],
   "source": [
    "#7.1\tCreate and justify test designs\n",
    "train_data71,test_data71 = final_data.randomSplit([0.8,0.2])\n",
    "print((train_data71.count(), len(train_data71.columns)))\n",
    "print((test_data71.count(), len(test_data71.columns)))"
   ]
  },
  {
   "cell_type": "code",
   "execution_count": 26,
   "metadata": {},
   "outputs": [
    {
     "name": "stdout",
     "output_type": "stream",
     "text": [
      "Conversion Success !\n",
      "Training duration:  3.876182794570923  seconds\n",
      "Accuracy:  0.6785903855570984\n"
     ]
    }
   ],
   "source": [
    "#7.2\tConduct data mining\n",
    "import time\n",
    "\n",
    "start = time.time()\n",
    "\n",
    "dtc_tree_72 = DecisionTreeClassifier(labelCol='targetIndex',featuresCol='features', maxDepth=4, minInstancesPerNode=2000)\n",
    "dtc_tree_model_72 = dtc_tree_72.fit(train_data71)\n",
    "\n",
    "\n",
    "tree_feature_json(dtc_tree_model_72.toDebugString, df42.columns)\n",
    "\n",
    "dtc_tree_predictions_72 = dtc_tree_model_72.transform(test_data71)\n",
    "\n",
    "\n",
    "end = time.time()\n",
    "duration = end-start\n",
    "\n",
    "print(\"Training duration: \", duration, \" seconds\")\n",
    "print(\"Accuracy: \", my_binary_eval.evaluate(dtc_tree_predictions_72))\n",
    "\n"
   ]
  },
  {
   "cell_type": "code",
   "execution_count": 27,
   "metadata": {},
   "outputs": [
    {
     "name": "stdout",
     "output_type": "stream",
     "text": [
      "Training duration:  4.524969816207886  seconds\n",
      "Accuracy:  0.8164498132350329\n"
     ]
    }
   ],
   "source": [
    "from pyspark.ml.classification import RandomForestClassifier\n",
    "\n",
    "start = time.time()\n",
    "\n",
    "forest_72 = RandomForestClassifier(labelCol='targetIndex',featuresCol='features')\n",
    "forest_model_72 = forest_72.fit(train_data71)\n",
    "\n",
    "\n",
    "\n",
    "forest_predictions_72 = forest_model_72.transform(test_data71)\n",
    "\n",
    "\n",
    "end = time.time()\n",
    "duration = end-start\n",
    "\n",
    "print(\"Training duration: \", duration, \" seconds\")\n",
    "print(\"Accuracy: \", my_binary_eval.evaluate(forest_predictions_72))"
   ]
  },
  {
   "cell_type": "code",
   "execution_count": 28,
   "metadata": {},
   "outputs": [
    {
     "data": {
      "text/plain": [
       "SparseVector(22, {0: 0.0289, 1: 0.0462, 2: 0.0135, 3: 0.0406, 4: 0.055, 5: 0.0184, 6: 0.0173, 7: 0.0104, 8: 0.0322, 9: 0.0039, 10: 0.0626, 11: 0.0301, 12: 0.0055, 13: 0.0309, 14: 0.0515, 15: 0.067, 16: 0.0646, 17: 0.156, 18: 0.0343, 19: 0.0521, 20: 0.0426, 21: 0.1364})"
      ]
     },
     "execution_count": 28,
     "metadata": {},
     "output_type": "execute_result"
    }
   ],
   "source": [
    "forest_model_72.featureImportances"
   ]
  },
  {
   "cell_type": "code",
   "execution_count": 29,
   "metadata": {},
   "outputs": [
    {
     "data": {
      "text/html": [
       "<div>\n",
       "<style scoped>\n",
       "    .dataframe tbody tr th:only-of-type {\n",
       "        vertical-align: middle;\n",
       "    }\n",
       "\n",
       "    .dataframe tbody tr th {\n",
       "        vertical-align: top;\n",
       "    }\n",
       "\n",
       "    .dataframe thead th {\n",
       "        text-align: right;\n",
       "    }\n",
       "</style>\n",
       "<table border=\"1\" class=\"dataframe\">\n",
       "  <thead>\n",
       "    <tr style=\"text-align: right;\">\n",
       "      <th></th>\n",
       "      <th>values</th>\n",
       "      <th>features</th>\n",
       "    </tr>\n",
       "  </thead>\n",
       "  <tbody>\n",
       "    <tr>\n",
       "      <th>17</th>\n",
       "      <td>0.155980</td>\n",
       "      <td>meaneduc</td>\n",
       "    </tr>\n",
       "    <tr>\n",
       "      <th>21</th>\n",
       "      <td>0.136380</td>\n",
       "      <td>dependency_rate</td>\n",
       "    </tr>\n",
       "    <tr>\n",
       "      <th>15</th>\n",
       "      <td>0.066984</td>\n",
       "      <td>edjefe</td>\n",
       "    </tr>\n",
       "    <tr>\n",
       "      <th>16</th>\n",
       "      <td>0.064632</td>\n",
       "      <td>edjefa</td>\n",
       "    </tr>\n",
       "    <tr>\n",
       "      <th>10</th>\n",
       "      <td>0.062553</td>\n",
       "      <td>epared3</td>\n",
       "    </tr>\n",
       "    <tr>\n",
       "      <th>4</th>\n",
       "      <td>0.055048</td>\n",
       "      <td>r4t1</td>\n",
       "    </tr>\n",
       "    <tr>\n",
       "      <th>19</th>\n",
       "      <td>0.052133</td>\n",
       "      <td>overcrowding</td>\n",
       "    </tr>\n",
       "    <tr>\n",
       "      <th>14</th>\n",
       "      <td>0.051451</td>\n",
       "      <td>hogar_nin</td>\n",
       "    </tr>\n",
       "    <tr>\n",
       "      <th>1</th>\n",
       "      <td>0.046173</td>\n",
       "      <td>v18q</td>\n",
       "    </tr>\n",
       "    <tr>\n",
       "      <th>20</th>\n",
       "      <td>0.042611</td>\n",
       "      <td>qmobilephone</td>\n",
       "    </tr>\n",
       "    <tr>\n",
       "      <th>3</th>\n",
       "      <td>0.040612</td>\n",
       "      <td>r4m1</td>\n",
       "    </tr>\n",
       "    <tr>\n",
       "      <th>18</th>\n",
       "      <td>0.034271</td>\n",
       "      <td>instlevel8</td>\n",
       "    </tr>\n",
       "    <tr>\n",
       "      <th>8</th>\n",
       "      <td>0.032208</td>\n",
       "      <td>cielorazo</td>\n",
       "    </tr>\n",
       "    <tr>\n",
       "      <th>13</th>\n",
       "      <td>0.030885</td>\n",
       "      <td>eviv3</td>\n",
       "    </tr>\n",
       "    <tr>\n",
       "      <th>11</th>\n",
       "      <td>0.030073</td>\n",
       "      <td>etecho3</td>\n",
       "    </tr>\n",
       "    <tr>\n",
       "      <th>0</th>\n",
       "      <td>0.028941</td>\n",
       "      <td>rooms</td>\n",
       "    </tr>\n",
       "    <tr>\n",
       "      <th>5</th>\n",
       "      <td>0.018421</td>\n",
       "      <td>escolari</td>\n",
       "    </tr>\n",
       "    <tr>\n",
       "      <th>6</th>\n",
       "      <td>0.017331</td>\n",
       "      <td>paredblolad</td>\n",
       "    </tr>\n",
       "    <tr>\n",
       "      <th>2</th>\n",
       "      <td>0.013451</td>\n",
       "      <td>r4h1</td>\n",
       "    </tr>\n",
       "    <tr>\n",
       "      <th>7</th>\n",
       "      <td>0.010412</td>\n",
       "      <td>pisomoscer</td>\n",
       "    </tr>\n",
       "    <tr>\n",
       "      <th>12</th>\n",
       "      <td>0.005539</td>\n",
       "      <td>eviv1</td>\n",
       "    </tr>\n",
       "    <tr>\n",
       "      <th>9</th>\n",
       "      <td>0.003910</td>\n",
       "      <td>epared1</td>\n",
       "    </tr>\n",
       "  </tbody>\n",
       "</table>\n",
       "</div>"
      ],
      "text/plain": [
       "      values         features\n",
       "17  0.155980         meaneduc\n",
       "21  0.136380  dependency_rate\n",
       "15  0.066984           edjefe\n",
       "16  0.064632           edjefa\n",
       "10  0.062553          epared3\n",
       "4   0.055048             r4t1\n",
       "19  0.052133     overcrowding\n",
       "14  0.051451        hogar_nin\n",
       "1   0.046173             v18q\n",
       "20  0.042611     qmobilephone\n",
       "3   0.040612             r4m1\n",
       "18  0.034271       instlevel8\n",
       "8   0.032208        cielorazo\n",
       "13  0.030885            eviv3\n",
       "11  0.030073          etecho3\n",
       "0   0.028941            rooms\n",
       "5   0.018421         escolari\n",
       "6   0.017331      paredblolad\n",
       "2   0.013451             r4h1\n",
       "7   0.010412       pisomoscer\n",
       "12  0.005539            eviv1\n",
       "9   0.003910          epared1"
      ]
     },
     "execution_count": 29,
     "metadata": {},
     "output_type": "execute_result"
    }
   ],
   "source": [
    "features = df42.columns[0:22]\n",
    "model = pd.DataFrame(forest_model_72.featureImportances.toArray(), columns=[\"values\"])\n",
    "features_col = pd.Series(features)\n",
    "model[\"features\"] = features_col\n",
    "model.sort_values(by='values', ascending=False)"
   ]
  },
  {
   "cell_type": "code",
   "execution_count": 30,
   "metadata": {},
   "outputs": [
    {
     "name": "stdout",
     "output_type": "stream",
     "text": [
      "Coefficients: [-0.035729026824456674,-0.2898500454271644,-0.08390655348429503,-0.07620772849940154,-0.07374266124002417,-0.0018691881105339103,-0.09480552449607614,0.015129403088782141,-0.028200336742600102,-0.0618715652706585,0.0705358442529492,-0.029987151758122152,-0.07339834398748141,-0.14638826363364713,0.168282492680911,0.00575060443955327,0.00575060443955327,-0.06349193418979358,-0.23035661305138244,-0.04403963125604245,0.015798538351670985,0.4880774851322797]\n",
      "Intercept: 2.0207859516692457\n",
      "numIterations: 22\n",
      "objectiveHistory: [0.5, 0.46187780920442933, 0.45455661173193973, 0.4427846943132496, 0.4414191732996685, 0.4403685050538154, 0.440147971516783, 0.4400245389316554, 0.4399348134892772, 0.4399128853217915, 0.4399086951523391, 0.43990772595404537, 0.4399074764091755, 0.4399073959489975, 0.43990738469741886, 0.43990738273298213, 0.43990738257234774, 0.43990738254103845, 0.43990738252944306, 0.4399073825290709, 0.43990738252877937, 0.4399073825285682]\n",
      "+--------------------+\n",
      "|           residuals|\n",
      "+--------------------+\n",
      "| -0.7996562600515567|\n",
      "| -1.0468355660977442|\n",
      "| -1.1639539050079906|\n",
      "| -1.1639539050079906|\n",
      "|   -1.05431231853988|\n",
      "| -1.4308642658825876|\n",
      "| -0.7622088156316891|\n",
      "| -0.7603396275211551|\n",
      "| -1.2779511046894436|\n",
      "|-0.32408835891302035|\n",
      "| -0.5824827936224115|\n",
      "| -1.4681386537085894|\n",
      "| -1.4662694655980555|\n",
      "|   -1.45879271315592|\n",
      "| -1.4974022707246815|\n",
      "| -1.4936638945036136|\n",
      "|  -1.289166233352647|\n",
      "| -0.5862211698434794|\n",
      "| -1.4774845942612589|\n",
      "| -1.5048790231668172|\n",
      "+--------------------+\n",
      "only showing top 20 rows\n",
      "\n",
      "RMSE: 1.049458\n",
      "r2: 0.120185\n"
     ]
    }
   ],
   "source": [
    "from pyspark.ml.regression import LinearRegression\n",
    "\n",
    "lr_72 = LinearRegression(labelCol='targetIndex',featuresCol='features')\n",
    "lrModel = lr_72.fit(train_data71)\n",
    "print(\"Coefficients: %s\" % str(lrModel.coefficients))\n",
    "print(\"Intercept: %s\" % str(lrModel.intercept))\n",
    "\n",
    "# Summarize the model over the training set and print out some metrics\n",
    "trainingSummary = lrModel.summary\n",
    "print(\"numIterations: %d\" % trainingSummary.totalIterations)\n",
    "print(\"objectiveHistory: %s\" % str(trainingSummary.objectiveHistory))\n",
    "trainingSummary.residuals.show()\n",
    "print(\"RMSE: %f\" % trainingSummary.rootMeanSquaredError)\n",
    "print(\"r2: %f\" % trainingSummary.r2)\n",
    "\n",
    "\n"
   ]
  },
  {
   "cell_type": "code",
   "execution_count": 31,
   "metadata": {},
   "outputs": [
    {
     "name": "stdout",
     "output_type": "stream",
     "text": [
      "Training duration:  0.0804898738861084  seconds\n",
      "                                 OLS Regression Results                                \n",
      "=======================================================================================\n",
      "Dep. Variable:                Target2   R-squared (uncentered):                   0.876\n",
      "Model:                            OLS   Adj. R-squared (uncentered):              0.876\n",
      "Method:                 Least Squares   F-statistic:                              7862.\n",
      "Date:                Wed, 21 Oct 2020   Prob (F-statistic):                        0.00\n",
      "Time:                        21:12:57   Log-Likelihood:                         -30890.\n",
      "No. Observations:               22303   AIC:                                  6.182e+04\n",
      "Df Residuals:                   22283   BIC:                                  6.198e+04\n",
      "Df Model:                          20                                                  \n",
      "Covariance Type:            nonrobust                                                  \n",
      "===================================================================================\n",
      "                      coef    std err          t      P>|t|      [0.025      0.975]\n",
      "-----------------------------------------------------------------------------------\n",
      "rooms               0.1772      0.005     36.719      0.000       0.168       0.187\n",
      "v18q                0.1826      0.020      9.314      0.000       0.144       0.221\n",
      "r4h1                0.0081      0.008      1.058      0.290      -0.007       0.023\n",
      "r4m1               -0.0479      0.007     -6.493      0.000      -0.062      -0.033\n",
      "r4t1               -0.0398      0.007     -5.907      0.000      -0.053      -0.027\n",
      "escolari            0.0140      0.002      6.885      0.000       0.010       0.018\n",
      "paredblolad         0.1142      0.015      7.718      0.000       0.085       0.143\n",
      "pisomoscer          0.1416      0.017      8.139      0.000       0.107       0.176\n",
      "cielorazo           0.0393      0.017      2.360      0.018       0.007       0.072\n",
      "epared1            -0.0067      0.024     -0.277      0.781      -0.054       0.041\n",
      "epared3             0.1550      0.020      7.661      0.000       0.115       0.195\n",
      "etecho3             0.1605      0.019      8.440      0.000       0.123       0.198\n",
      "eviv1               0.1702      0.025      6.687      0.000       0.120       0.220\n",
      "eviv3               0.0963      0.020      4.828      0.000       0.057       0.135\n",
      "hogar_nin          -0.3077      0.010    -32.371      0.000      -0.326      -0.289\n",
      "edjefe              0.0144      0.001     17.910      0.000       0.013       0.016\n",
      "edjefa              0.0144      0.001     17.910      0.000       0.013       0.016\n",
      "meaneduc            0.0666      0.002     28.286      0.000       0.062       0.071\n",
      "instlevel8         -0.0978      0.030     -3.312      0.001      -0.156      -0.040\n",
      "overcrowding        0.2830      0.009     31.906      0.000       0.266       0.300\n",
      "qmobilephone        0.1469      0.006     24.592      0.000       0.135       0.159\n",
      "dependency_rate     0.4260      0.032     13.499      0.000       0.364       0.488\n",
      "==============================================================================\n",
      "Omnibus:                      171.697   Durbin-Watson:                   0.115\n",
      "Prob(Omnibus):                  0.000   Jarque-Bera (JB):              145.575\n",
      "Skew:                          -0.139   Prob(JB):                     2.45e-32\n",
      "Kurtosis:                       2.718   Cond. No.                     6.93e+16\n",
      "==============================================================================\n",
      "\n",
      "Warnings:\n",
      "[1] Standard Errors assume that the covariance matrix of the errors is correctly specified.\n",
      "[2] The smallest eigenvalue is 9.35e-28. This might indicate that there are\n",
      "strong multicollinearity problems or that the design matrix is singular.\n"
     ]
    }
   ],
   "source": [
    "import statsmodels.api as sm\n",
    "data71 = df42.toPandas()\n",
    "Y72 = data71['Target2']\n",
    "X72 = data71.drop('Target2', axis=1)\n",
    "\n",
    "start = time.time()\n",
    "mod = sm.OLS(Y72, X72)    # Describe model\n",
    "res = mod.fit()       # Fit model\n",
    "end = time.time()\n",
    "duration = end-start\n",
    "print(\"Training duration: \", duration, \" seconds\")\n",
    "print(res.summary())"
   ]
  },
  {
   "cell_type": "code",
   "execution_count": 32,
   "metadata": {},
   "outputs": [
    {
     "data": {
      "text/plain": [
       "rooms              1.241698e-286\n",
       "hogar_nin          1.118799e-224\n",
       "overcrowding       1.817355e-218\n",
       "meaneduc           5.860866e-173\n",
       "qmobilephone       8.714019e-132\n",
       "edjefe              3.099329e-71\n",
       "edjefa              3.099329e-71\n",
       "dependency_rate     2.315713e-41\n",
       "v18q                1.343601e-20\n",
       "etecho3             3.359869e-17\n",
       "pisomoscer          4.199447e-16\n",
       "paredblolad         1.228178e-14\n",
       "epared3             1.913778e-14\n",
       "escolari            5.951385e-12\n",
       "eviv1               2.327195e-11\n",
       "r4m1                8.588050e-11\n",
       "r4t1                3.524765e-09\n",
       "eviv3               1.387069e-06\n",
       "instlevel8          9.262860e-04\n",
       "cielorazo           1.830655e-02\n",
       "r4h1                2.899945e-01\n",
       "epared1             7.814330e-01\n",
       "dtype: float64"
      ]
     },
     "execution_count": 32,
     "metadata": {},
     "output_type": "execute_result"
    }
   ],
   "source": [
    "#7.3\tSearch for patterns\n",
    "res.pvalues.sort_values()"
   ]
  },
  {
   "cell_type": "code",
   "execution_count": 33,
   "metadata": {},
   "outputs": [
    {
     "data": {
      "image/png": "[encoded data removed]",
      "text/plain": [
       "<Figure size 720x720 with 2 Axes>"
      ]
     },
     "metadata": {},
     "output_type": "display_data"
    }
   ],
   "source": [
    "#8.2\tVisualize the data, results, models, and patterns\n",
    "\n",
    "from sklearn.metrics import confusion_matrix\n",
    "import matplotlib.pyplot as plt\n",
    "\n",
    "prediction82 = dtc_tree_predictions_72.toPandas()\n",
    "\n",
    "c82 = pd.crosstab(prediction82[\"targetIndex\"], prediction82[\"prediction\"])\n",
    "c82.columns.name = 'predict'\n",
    "\n",
    "plt.figure(figsize=(10,10))\n",
    "#sns.set(font_scale=1.5)\n",
    "sns.heatmap(c82, annot=True, fmt='d').invert_yaxis()\n",
    "plt.show()"
   ]
  },
  {
   "cell_type": "code",
   "execution_count": 37,
   "metadata": {},
   "outputs": [
    {
     "name": "stderr",
     "output_type": "stream",
     "text": [
      "/home/ubuntu/.local/lib/python3.5/site-packages/ipykernel_launcher.py:5: SettingWithCopyWarning: \n",
      "A value is trying to be set on a copy of a slice from a DataFrame\n",
      "\n",
      "See the caveats in the documentation: http://pandas.pydata.org/pandas-docs/stable/indexing.html#indexing-view-versus-copy\n",
      "  \"\"\"\n"
     ]
    },
    {
     "data": {
      "text/plain": [
       "<matplotlib.axes._subplots.AxesSubplot at 0x7fdf9865d588>"
      ]
     },
     "execution_count": 37,
     "metadata": {},
     "output_type": "execute_result"
    },
    {
     "data": {
      "image/png": "[encoded data removed]",
      "text/plain": [
       "<Figure size 720x720 with 1 Axes>"
      ]
     },
     "metadata": {},
     "output_type": "display_data"
    }
   ],
   "source": [
    "data82=data41\n",
    "\n",
    "data82['hogar_nin'].value_counts()\n",
    "data82['more_than_one_child']=0\n",
    "data82['more_than_one_child'][data41['hogar_nin']>1]=1\n",
    "\n",
    "plt.figure(figsize=(10,10))\n",
    "sns.violinplot(x='Target2', y='meaneduc', hue='more_than_one_child', data=data41, split=True)"
   ]
  },
  {
   "cell_type": "code",
   "execution_count": 32,
   "metadata": {},
   "outputs": [
    {
     "data": {
      "text/plain": [
       "0.7907525685563527"
      ]
     },
     "execution_count": 32,
     "metadata": {},
     "output_type": "execute_result"
    }
   ],
   "source": [
    "#8.4\tAssess and evaluate results, models, and patterns\n",
    "\n",
    "from statsmodels.tools import eval_measures\n",
    "\n",
    "y_predict_regression = res.predict(X72)\n",
    "\n",
    "eval_measures.meanabs(Y72, y_predict_regression)"
   ]
  },
  {
   "cell_type": "code",
   "execution_count": 33,
   "metadata": {},
   "outputs": [
    {
     "name": "stdout",
     "output_type": "stream",
     "text": [
      "0.9849607182940516\n",
      "0.7490460157126824\n"
     ]
    }
   ],
   "source": [
    "print(eval_measures.meanabs(dtc_tree_predictions_72.toPandas()[\"targetIndex\"], dtc_tree_predictions_72.toPandas()[\"prediction\"]))\n",
    "print(eval_measures.meanabs(forest_predictions_72.toPandas()[\"targetIndex\"], forest_predictions_72.toPandas()[\"prediction\"]))"
   ]
  },
  {
   "cell_type": "code",
   "execution_count": 4,
   "metadata": {},
   "outputs": [],
   "source": [
    "data85 = df35.toPandas()\n",
    "y85 = data85['Target2']\n",
    "X85 = data85.drop('Target2', axis=1)"
   ]
  },
  {
   "cell_type": "code",
   "execution_count": 5,
   "metadata": {},
   "outputs": [
    {
     "name": "stdout",
     "output_type": "stream",
     "text": [
      "Training duration:  0.3423137664794922  seconds\n",
      "                            OLS Regression Results                            \n",
      "==============================================================================\n",
      "Dep. Variable:                Target2   R-squared:                       0.359\n",
      "Model:                            OLS   Adj. R-squared:                  0.352\n",
      "Method:                 Least Squares   F-statistic:                     46.34\n",
      "Date:                Wed, 21 Oct 2020   Prob (F-statistic):               0.00\n",
      "Time:                        21:21:27   Log-Likelihood:                -10615.\n",
      "No. Observations:                8866   AIC:                         2.144e+04\n",
      "Df Residuals:                    8759   BIC:                         2.220e+04\n",
      "Df Model:                         106                                         \n",
      "Covariance Type:            nonrobust                                         \n",
      "===================================================================================\n",
      "                      coef    std err          t      P>|t|      [0.025      0.975]\n",
      "-----------------------------------------------------------------------------------\n",
      "_c0              5.721e-06   3.42e-06      1.674      0.094    -9.8e-07    1.24e-05\n",
      "hacdor              0.0648      0.089      0.725      0.468      -0.110       0.240\n",
      "rooms              -0.0078      0.011     -0.693      0.488      -0.030       0.014\n",
      "hacapo              0.2916      0.107      2.714      0.007       0.081       0.502\n",
      "v14a                0.1898      0.161      1.177      0.239      -0.126       0.506\n",
      "refrig              0.0669      0.049      1.362      0.173      -0.029       0.163\n",
      "v18q                0.2070      0.023      8.890      0.000       0.161       0.253\n",
      "r4h1               -0.0235      0.012     -1.925      0.054      -0.047       0.000\n",
      "r4h2                0.0116      0.011      1.075      0.282      -0.010       0.033\n",
      "r4h3               -0.0119      0.018     -0.644      0.520      -0.048       0.024\n",
      "r4m1               -0.0385      0.012     -3.207      0.001      -0.062      -0.015\n",
      "r4m2               -0.0270      0.011     -2.413      0.016      -0.049      -0.005\n",
      "r4m3               -0.0655      0.018     -3.542      0.000      -0.102      -0.029\n",
      "r4t1               -0.0620      0.019     -3.221      0.001      -0.100      -0.024\n",
      "r4t2               -0.0154      0.018     -0.837      0.402      -0.051       0.021\n",
      "r4t3               -0.0774      0.036     -2.160      0.031      -0.148      -0.007\n",
      "tamhog              0.1918      0.041      4.667      0.000       0.111       0.272\n",
      "tamviv             -0.0500      0.020     -2.503      0.012      -0.089      -0.011\n",
      "escolari           -0.0081      0.009     -0.855      0.392      -0.027       0.010\n",
      "hhsize              0.1918      0.041      4.667      0.000       0.111       0.272\n",
      "paredblolad         0.1036      0.059      1.765      0.078      -0.011       0.219\n",
      "paredzocalo         0.0470      0.063      0.744      0.457      -0.077       0.171\n",
      "paredpreb          -0.0250      0.060     -0.417      0.676      -0.142       0.092\n",
      "pareddes            0.4453      0.195      2.278      0.023       0.062       0.829\n",
      "paredmad            0.0235      0.061      0.385      0.700      -0.096       0.143\n",
      "paredzinc           0.3961      0.097      4.092      0.000       0.206       0.586\n",
      "paredfibras        -0.4916      0.206     -2.383      0.017      -0.896      -0.087\n",
      "paredother          0.3622      0.202      1.792      0.073      -0.034       0.758\n",
      "pisomoscer          0.1648      0.077      2.149      0.032       0.014       0.315\n",
      "pisocemento         0.0853      0.077      1.111      0.267      -0.065       0.236\n",
      "pisoother           0.7627      0.236      3.229      0.001       0.300       1.226\n",
      "pisonatur          -0.0609      0.260     -0.234      0.815      -0.571       0.449\n",
      "pisonotiene        -0.0842      0.105     -0.803      0.422      -0.290       0.121\n",
      "pisomadera         -0.0066      0.081     -0.082      0.934      -0.165       0.151\n",
      "techozinc           0.2655      0.255      1.040      0.298      -0.235       0.766\n",
      "techoentrepiso      0.2795      0.264      1.057      0.290      -0.239       0.798\n",
      "techocane          -0.0381      0.295     -0.129      0.897      -0.615       0.539\n",
      "techootro           0.4059      0.313      1.295      0.195      -0.208       1.020\n",
      "cielorazo           0.1002      0.025      3.977      0.000       0.051       0.150\n",
      "abastaguadentro     0.3760      0.077      4.860      0.000       0.224       0.528\n",
      "abastaguafuera      0.5659      0.083      6.854      0.000       0.404       0.728\n",
      "abastaguano        -0.0809      0.126     -0.641      0.522      -0.328       0.166\n",
      "public             -0.2690      0.235     -1.145      0.252      -0.730       0.192\n",
      "planpri            -0.2220      0.523     -0.425      0.671      -1.247       0.803\n",
      "noelec              0.3312      0.296      1.119      0.263      -0.249       0.911\n",
      "coopele            -0.2510      0.236     -1.066      0.287      -0.713       0.211\n",
      "sanitario1          0.1053      0.145      0.728      0.467      -0.178       0.389\n",
      "sanitario2          0.1214      0.063      1.916      0.055      -0.003       0.246\n",
      "sanitario3          0.0355      0.062      0.575      0.565      -0.085       0.156\n",
      "sanitario5          0.0613      0.087      0.708      0.479      -0.108       0.231\n",
      "sanitario6          0.5376      0.146      3.675      0.000       0.251       0.824\n",
      "energcocinar1      -0.1959      0.156     -1.256      0.209      -0.502       0.110\n",
      "energcocinar2       0.4129      0.064      6.440      0.000       0.287       0.539\n",
      "energcocinar3       0.4396      0.064      6.918      0.000       0.315       0.564\n",
      "energcocinar4       0.2045      0.069      2.981      0.003       0.070       0.339\n",
      "elimbasu1           0.0743      0.073      1.014      0.310      -0.069       0.218\n",
      "elimbasu2           0.1491      0.083      1.791      0.073      -0.014       0.312\n",
      "elimbasu3           0.0105      0.076      0.138      0.890      -0.138       0.159\n",
      "elimbasu4          -0.0764      0.208     -0.368      0.713      -0.484       0.331\n",
      "elimbasu5        2.911e-15   1.39e-15      2.094      0.036    1.86e-16    5.64e-15\n",
      "elimbasu6           0.7036      0.199      3.541      0.000       0.314       1.093\n",
      "epared1             0.2441      0.060      4.053      0.000       0.126       0.362\n",
      "epared2             0.2730      0.053      5.138      0.000       0.169       0.377\n",
      "epared3             0.3439      0.055      6.282      0.000       0.237       0.451\n",
      "etecho1             0.1743      0.055      3.159      0.002       0.066       0.282\n",
      "etecho2             0.3033      0.054      5.610      0.000       0.197       0.409\n",
      "etecho3             0.3835      0.054      7.075      0.000       0.277       0.490\n",
      "eviv1               0.3018      0.058      5.202      0.000       0.188       0.416\n",
      "eviv2               0.2515      0.054      4.635      0.000       0.145       0.358\n",
      "eviv3               0.3077      0.056      5.539      0.000       0.199       0.417\n",
      "dis                -0.1183      0.039     -3.034      0.002      -0.195      -0.042\n",
      "male                0.4361      0.077      5.673      0.000       0.285       0.587\n",
      "female              0.4250      0.077      5.520      0.000       0.274       0.576\n",
      "estadocivil1        0.0999      0.055      1.828      0.068      -0.007       0.207\n",
      "estadocivil2        0.1336      0.038      3.518      0.000       0.059       0.208\n",
      "estadocivil3        0.1044      0.036      2.917      0.004       0.034       0.175\n",
      "estadocivil4        0.2215      0.049      4.505      0.000       0.125       0.318\n",
      "estadocivil5        0.0715      0.040      1.800      0.072      -0.006       0.149\n",
      "estadocivil6        0.1630      0.053      3.075      0.002       0.059       0.267\n",
      "estadocivil7        0.0671      0.034      1.995      0.046       0.001       0.133\n",
      "parentesco1        -0.0080      0.039     -0.206      0.837      -0.085       0.068\n",
      "parentesco2        -0.0080      0.046     -0.173      0.863      -0.099       0.083\n",
      "parentesco3        -0.0433      0.037     -1.162      0.245      -0.116       0.030\n",
      "parentesco4         0.2886      0.082      3.503      0.000       0.127       0.450\n",
      "parentesco5        -0.0114      0.094     -0.122      0.903      -0.196       0.173\n",
      "parentesco6        -0.0120      0.056     -0.214      0.831      -0.123       0.098\n",
      "parentesco7         0.0727      0.088      0.828      0.408      -0.099       0.245\n",
      "parentesco8         0.0479      0.162      0.296      0.767      -0.269       0.365\n",
      "parentesco9         0.1195      0.076      1.568      0.117      -0.030       0.269\n",
      "parentesco10        0.2490      0.150      1.658      0.097      -0.045       0.543\n",
      "parentesco11        0.0179      0.082      0.218      0.828      -0.143       0.179\n",
      "parentesco12        0.1484      0.092      1.620      0.105      -0.031       0.328\n",
      "hogar_nin          -0.0576      0.025     -2.336      0.019      -0.106      -0.009\n",
      "hogar_adul          0.2494      0.024     10.244      0.000       0.202       0.297\n",
      "hogar_mayor        -0.0753      0.034     -2.196      0.028      -0.142      -0.008\n",
      "hogar_total         0.1918      0.041      4.667      0.000       0.111       0.272\n",
      "edjefe              0.0027      0.001      2.551      0.011       0.001       0.005\n",
      "edjefa              0.0027      0.001      2.551      0.011       0.001       0.005\n",
      "meaneduc            0.0565      0.004     15.094      0.000       0.049       0.064\n",
      "instlevel1         -0.8671      0.470     -1.844      0.065      -1.789       0.055\n",
      "instlevel2         -0.8239      0.470     -1.753      0.080      -1.745       0.098\n",
      "instlevel3         -0.7469      0.472     -1.582      0.114      -1.672       0.179\n",
      "instlevel4         -0.7693      0.475     -1.619      0.106      -1.701       0.162\n",
      "instlevel5         -0.7878      0.480     -1.642      0.101      -1.728       0.153\n",
      "instlevel6         -0.7710      0.480     -1.605      0.108      -1.713       0.171\n",
      "instlevel7         -0.7611      0.486     -1.565      0.118      -1.714       0.192\n",
      "instlevel8         -0.7478      0.487     -1.536      0.125      -1.702       0.207\n",
      "instlevel9         -0.7118      0.500     -1.424      0.154      -1.692       0.268\n",
      "bedrooms           -0.0482      0.026     -1.842      0.065      -0.099       0.003\n",
      "overcrowding       -0.1044      0.038     -2.731      0.006      -0.179      -0.029\n",
      "tipovivi1           0.1409      0.038      3.696      0.000       0.066       0.216\n",
      "tipovivi2           0.3245      0.043      7.459      0.000       0.239       0.410\n",
      "tipovivi3           0.2721      0.040      6.786      0.000       0.193       0.351\n",
      "tipovivi4          -0.0382      0.070     -0.546      0.585      -0.175       0.099\n",
      "tipovivi5           0.1620      0.044      3.711      0.000       0.076       0.248\n",
      "computer           -0.0424      0.032     -1.334      0.182      -0.105       0.020\n",
      "television          0.0677      0.020      3.351      0.001       0.028       0.107\n",
      "mobilephone         0.1699      0.065      2.625      0.009       0.043       0.297\n",
      "qmobilephone        0.0957      0.010      9.434      0.000       0.076       0.116\n",
      "lugar1              0.2147      0.032      6.794      0.000       0.153       0.277\n",
      "lugar2              0.1566      0.037      4.180      0.000       0.083       0.230\n",
      "lugar3              0.0020      0.040      0.049      0.961      -0.077       0.081\n",
      "lugar4              0.0963      0.039      2.480      0.013       0.020       0.172\n",
      "lugar5              0.1580      0.037      4.227      0.000       0.085       0.231\n",
      "lugar6              0.2335      0.040      5.831      0.000       0.155       0.312\n",
      "area1               0.3504      0.077      4.544      0.000       0.199       0.501\n",
      "area2               0.5107      0.077      6.620      0.000       0.360       0.662\n",
      "age                -0.0012      0.001     -1.117      0.264      -0.003       0.001\n",
      "count              -0.5564      0.120     -4.620      0.000      -0.793      -0.320\n",
      "meaneduc_z         -0.1064      0.020     -5.276      0.000      -0.146      -0.067\n",
      "dependency_rate     0.1581      0.087      1.825      0.068      -0.012       0.328\n",
      "==============================================================================\n",
      "Omnibus:                      796.579   Durbin-Watson:                   0.651\n",
      "Prob(Omnibus):                  0.000   Jarque-Bera (JB):             1035.581\n",
      "Skew:                          -0.784   Prob(JB):                    1.34e-225\n",
      "Kurtosis:                       3.589   Cond. No.                     1.00e+16\n",
      "==============================================================================\n",
      "\n",
      "Warnings:\n",
      "[1] Standard Errors assume that the covariance matrix of the errors is correctly specified.\n",
      "[2] The smallest eigenvalue is 2.32e-21. This might indicate that there are\n",
      "strong multicollinearity problems or that the design matrix is singular.\n"
     ]
    }
   ],
   "source": [
    "import time\n",
    "import statsmodels.api as sm\n",
    "start = time.time()\n",
    "mod = sm.OLS(y85, X85)    \n",
    "res85 = mod.fit()       \n",
    "end = time.time()\n",
    "duration = end-start\n",
    "print(\"Training duration: \", duration, \" seconds\")\n",
    "print(res85.summary())"
   ]
  },
  {
   "cell_type": "code",
   "execution_count": 6,
   "metadata": {},
   "outputs": [
    {
     "data": {
      "text/plain": [
       "meaneduc           7.728336e-51\n",
       "hogar_adul         1.725079e-24\n",
       "qmobilephone       4.985552e-21\n",
       "v18q               7.357663e-19\n",
       "tipovivi2          9.555752e-14\n",
       "etecho3            1.605762e-12\n",
       "energcocinar3      4.902869e-12\n",
       "abastaguafuera     7.664322e-12\n",
       "lugar1             1.162803e-11\n",
       "tipovivi3          1.231124e-11\n",
       "area2              3.794485e-11\n",
       "energcocinar2      1.260047e-10\n",
       "epared3            3.498967e-10\n",
       "lugar6             5.703861e-09\n",
       "male               1.445069e-08\n",
       "etecho2            2.089230e-08\n",
       "eviv3              3.129487e-08\n",
       "female             3.487014e-08\n",
       "meaneduc_z         1.350641e-07\n",
       "eviv1              2.014964e-07\n",
       "epared2            2.835201e-07\n",
       "abastaguadentro    1.194858e-06\n",
       "tamhog             3.108566e-06\n",
       "hhsize             3.108566e-06\n",
       "hogar_total        3.108566e-06\n",
       "eviv2              3.624723e-06\n",
       "count              3.900856e-06\n",
       "area1              5.587763e-06\n",
       "estadocivil4       6.725318e-06\n",
       "lugar5             2.392789e-05\n",
       "                       ...     \n",
       "techozinc          2.982233e-01\n",
       "elimbasu1          3.104798e-01\n",
       "escolari           3.923855e-01\n",
       "r4t2               4.024442e-01\n",
       "parentesco7        4.077428e-01\n",
       "pisonotiene        4.222223e-01\n",
       "paredzocalo        4.567934e-01\n",
       "sanitario1         4.669108e-01\n",
       "hacdor             4.683965e-01\n",
       "sanitario5         4.787822e-01\n",
       "rooms              4.882029e-01\n",
       "r4h3               5.197234e-01\n",
       "abastaguano        5.215756e-01\n",
       "sanitario3         5.652179e-01\n",
       "tipovivi4          5.848687e-01\n",
       "planpri            6.711350e-01\n",
       "paredpreb          6.764688e-01\n",
       "paredmad           7.004749e-01\n",
       "elimbasu4          7.129354e-01\n",
       "parentesco8        7.669875e-01\n",
       "pisonatur          8.148199e-01\n",
       "parentesco11       8.276751e-01\n",
       "parentesco6        8.307064e-01\n",
       "parentesco1        8.365644e-01\n",
       "parentesco2        8.627545e-01\n",
       "elimbasu3          8.898682e-01\n",
       "techocane          8.971043e-01\n",
       "parentesco5        9.030383e-01\n",
       "pisomadera         9.343813e-01\n",
       "lugar3             9.607963e-01\n",
       "Length: 131, dtype: float64"
      ]
     },
     "execution_count": 6,
     "metadata": {},
     "output_type": "execute_result"
    }
   ],
   "source": [
    "res85.pvalues.sort_values()"
   ]
  },
  {
   "cell_type": "code",
   "execution_count": 7,
   "metadata": {},
   "outputs": [],
   "source": [
    "def feature_selection_by_p_value(X, y):\n",
    "    mod = sm.OLS(y, X)\n",
    "    res = mod.fit()\n",
    "    if sum(res.pvalues[res.pvalues>0.05])>0:\n",
    "        print(sum(res.pvalues>0.05))\n",
    "        columns = res.pvalues[res.pvalues>0.05].index\n",
    "        X = X.drop(columns, axis=1)\n",
    "        X = feature_selection_by_p_value(X, y)\n",
    "    else:\n",
    "        print(X.head())\n",
    "        return X\n",
    "    return X"
   ]
  },
  {
   "cell_type": "code",
   "execution_count": 8,
   "metadata": {},
   "outputs": [
    {
     "name": "stdout",
     "output_type": "stream",
     "text": [
      "65\n",
      "12\n",
      "2\n",
      "1\n",
      "   v18q  r4m3  r4t1  tamhog  tamviv  hhsize  paredzinc  paredfibras  \\\n",
      "0     0     3     1       5       5       5          0            0   \n",
      "1     0     3     1       5       5       5          0            0   \n",
      "2     0     3     1       5       5       5          0            0   \n",
      "3     0     3     1       5       5       5          0            0   \n",
      "4     0     3     1       5       5       5          0            0   \n",
      "\n",
      "   pisomoscer  pisoother     ...      mobilephone  qmobilephone  lugar1  \\\n",
      "0           0          0     ...                1             1       1   \n",
      "1           0          0     ...                1             1       1   \n",
      "2           0          0     ...                1             1       1   \n",
      "3           0          0     ...                1             1       1   \n",
      "4           0          0     ...                1             1       1   \n",
      "\n",
      "   lugar2  lugar5  lugar6  area1  area2  count  meaneduc_z  \n",
      "0       0       0       0      1      0      5    0.147663  \n",
      "1       0       0       0      1      0      5    0.147663  \n",
      "2       0       0       0      1      0      5    0.147663  \n",
      "3       0       0       0      1      0      5    0.147663  \n",
      "4       0       0       0      1      0      5    0.147663  \n",
      "\n",
      "[5 rows x 51 columns]\n"
     ]
    }
   ],
   "source": [
    "import statsmodels.api as sm\n",
    "X85 = feature_selection_by_p_value(X85, y85)"
   ]
  },
  {
   "cell_type": "code",
   "execution_count": 9,
   "metadata": {},
   "outputs": [],
   "source": [
    "X85[\"Target2\"] = y85"
   ]
  },
  {
   "cell_type": "code",
   "execution_count": 10,
   "metadata": {},
   "outputs": [
    {
     "name": "stdout",
     "output_type": "stream",
     "text": [
      "['v18q', 'r4m3', 'r4t1', 'tamhog', 'tamviv', 'hhsize', 'paredzinc', 'paredfibras', 'pisomoscer', 'pisoother', 'cielorazo', 'abastaguadentro', 'abastaguafuera', 'sanitario6', 'energcocinar2', 'energcocinar3', 'energcocinar4', 'elimbasu6', 'epared1', 'epared2', 'epared3', 'etecho2', 'etecho3', 'eviv1', 'eviv2', 'eviv3', 'dis', 'male', 'female', 'estadocivil4', 'parentesco4', 'hogar_adul', 'hogar_total', 'edjefe', 'edjefa', 'meaneduc', 'tipovivi1', 'tipovivi2', 'tipovivi3', 'tipovivi5', 'television', 'mobilephone', 'qmobilephone', 'lugar1', 'lugar2', 'lugar5', 'lugar6', 'area1', 'area2', 'count', 'meaneduc_z', 'Target2']\n"
     ]
    }
   ],
   "source": [
    "df85 = spark.createDataFrame(X85)\n",
    "print(df85.columns)"
   ]
  },
  {
   "cell_type": "code",
   "execution_count": 11,
   "metadata": {},
   "outputs": [],
   "source": [
    "df85 = df85.drop(\"count\", 'meaneduc_z')"
   ]
  },
  {
   "cell_type": "code",
   "execution_count": 12,
   "metadata": {},
   "outputs": [],
   "source": [
    "df_a = df85.filter(df85['Target2'] == 4)\n",
    "df_b = df85.filter(df85['Target2'] == 1)\n",
    "df_c = df85.filter(df85['Target2'] == 2)\n",
    "df_d = df85.filter(df85['Target2'] == 3)\n",
    "\n",
    "a_count = df_a.count()\n",
    "b_count = df_b.count()\n",
    "c_count = df_c.count() \n",
    "d_count = df_d.count() \n",
    "\n",
    "ratio = a_count / b_count\n",
    "ratio2 = a_count / c_count\n",
    "ratio3 = a_count / d_count\n",
    "\n",
    "df_b_overampled = df_b.sample(withReplacement=True, fraction=ratio, seed=1)\n",
    "df_c_overampled = df_c.sample(withReplacement=True, fraction=ratio2, seed=1)\n",
    "df_d_overampled = df_d.sample(withReplacement=True, fraction=ratio3, seed=1)\n",
    "\n",
    "\n",
    "df = df_a.unionAll(df_b_overampled)\n",
    "df2 = df.unionAll(df_c_overampled)\n",
    "df85 = df2.unionAll(df_d_overampled)"
   ]
  },
  {
   "cell_type": "code",
   "execution_count": 31,
   "metadata": {},
   "outputs": [
    {
     "data": {
      "text/plain": [
       "<matplotlib.axes._subplots.AxesSubplot at 0x7fbcf3be02b0>"
      ]
     },
     "execution_count": 31,
     "metadata": {},
     "output_type": "execute_result"
    },
    {
     "data": {
      "image/png": "[encoded data removed]",
      "text/plain": [
       "<Figure size 432x288 with 1 Axes>"
      ]
     },
     "metadata": {},
     "output_type": "display_data"
    }
   ],
   "source": [
    "import seaborn as sns\n",
    "\n",
    "sns.countplot(\"Target2\", data=df85.toPandas())"
   ]
  },
  {
   "cell_type": "code",
   "execution_count": 13,
   "metadata": {},
   "outputs": [],
   "source": [
    "from pyspark.ml.classification import DecisionTreeClassifier, RandomForestClassifier\n",
    "from pyspark.ml.feature import VectorAssembler\n",
    "\n",
    "assembler85 = VectorAssembler(\n",
    "  inputCols= df85.columns, outputCol=\"features\")"
   ]
  },
  {
   "cell_type": "code",
   "execution_count": 14,
   "metadata": {},
   "outputs": [],
   "source": [
    "output85 = assembler85.transform(df85)\n",
    "from pyspark.ml.feature import StringIndexer\n",
    "indexer = StringIndexer(inputCol=\"Target2\", outputCol=\"targetIndex\")\n",
    "output_fixed85 = indexer.fit(output85).transform(output85)\n",
    "final_data85 = output_fixed85.select(\"features\",'targetIndex')"
   ]
  },
  {
   "cell_type": "code",
   "execution_count": 15,
   "metadata": {},
   "outputs": [],
   "source": [
    "from pyspark.ml.evaluation import BinaryClassificationEvaluator\n",
    "my_binary_eval = BinaryClassificationEvaluator(labelCol = 'targetIndex')"
   ]
  },
  {
   "cell_type": "code",
   "execution_count": 16,
   "metadata": {},
   "outputs": [],
   "source": [
    "train_data85,test_data85 = final_data85.randomSplit([0.8,0.2])"
   ]
  },
  {
   "cell_type": "code",
   "execution_count": 19,
   "metadata": {},
   "outputs": [
    {
     "name": "stdout",
     "output_type": "stream",
     "text": [
      "Conversion Success !\n",
      "Training duration:  5.7157142162323  seconds\n",
      "Accuracy:  0.6607036374478235\n"
     ]
    }
   ],
   "source": [
    "import time\n",
    "\n",
    "start = time.time()\n",
    "\n",
    "dtc_tree_85 = DecisionTreeClassifier(labelCol='targetIndex',featuresCol='features', maxDepth=4, minInstancesPerNode=2000)\n",
    "dtc_tree_model_85 = dtc_tree_85.fit(train_data85)\n",
    "\n",
    "\n",
    "tree_feature_json(dtc_tree_model_85.toDebugString, X85.columns)\n",
    "\n",
    "dtc_tree_predictions_85 = dtc_tree_model_85.transform(test_data85)\n",
    "\n",
    "\n",
    "end = time.time()\n",
    "duration = end-start\n",
    "\n",
    "print(\"Training duration: \", duration, \" seconds\")\n",
    "print(\"Accuracy: \", my_binary_eval.evaluate(dtc_tree_predictions_85))"
   ]
  },
  {
   "cell_type": "code",
   "execution_count": 20,
   "metadata": {},
   "outputs": [
    {
     "name": "stdout",
     "output_type": "stream",
     "text": [
      "Training duration:  7.262090444564819  seconds\n",
      "Accuracy:  0.9541034830452532\n"
     ]
    }
   ],
   "source": [
    "start = time.time()\n",
    "\n",
    "dtc_forest_85 = RandomForestClassifier(labelCol='targetIndex',featuresCol='features')\n",
    "dtc_forest_model_85 = dtc_forest_85.fit(train_data85)\n",
    "\n",
    "\n",
    "\n",
    "dtc_forest_predictions_85 = dtc_forest_model_85.transform(test_data85)\n",
    "\n",
    "\n",
    "end = time.time()\n",
    "duration = end-start\n",
    "\n",
    "print(\"Training duration: \", duration, \" seconds\")\n",
    "print(\"Accuracy: \", my_binary_eval.evaluate(dtc_forest_predictions_85))"
   ]
  }
 ],
 "metadata": {
  "kernelspec": {
   "display_name": "Python 3",
   "language": "python",
   "name": "python3"
  },
  "language_info": {
   "codemirror_mode": {
    "name": "ipython",
    "version": 3
   },
   "file_extension": ".py",
   "mimetype": "text/x-python",
   "name": "python",
   "nbconvert_exporter": "python",
   "pygments_lexer": "ipython3",
   "version": "3.5.2"
  }
 },
 "nbformat": 4,
 "nbformat_minor": 2
}
