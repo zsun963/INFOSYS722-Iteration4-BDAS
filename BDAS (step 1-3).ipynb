{
 "cells": [
  {
   "cell_type": "code",
   "execution_count": 1,
   "metadata": {},
   "outputs": [],
   "source": [
    "# Must be included at the beginning of each new notebook. Remember to change the app name.\n",
    "import findspark\n",
    "findspark.init('/home/ubuntu/spark-2.1.1-bin-hadoop2.7')\n",
    "import pyspark\n",
    "from pyspark.sql import SparkSession\n",
    "spark = SparkSession.builder.appName('BDAS').getOrCreate()"
   ]
  },
  {
   "cell_type": "code",
   "execution_count": 2,
   "metadata": {},
   "outputs": [],
   "source": [
    "import pandas as pd"
   ]
  },
  {
   "cell_type": "code",
   "execution_count": 3,
   "metadata": {},
   "outputs": [],
   "source": [
    "df = spark.read.csv('Datasets/train.csv',inferSchema=True,header=True)"
   ]
  },
  {
   "cell_type": "code",
   "execution_count": 4,
   "metadata": {},
   "outputs": [
    {
     "name": "stdout",
     "output_type": "stream",
     "text": [
      "(9557, 143)\n"
     ]
    }
   ],
   "source": [
    "#2.3\tExplore the data\n",
    "\n",
    "print((df.count(), len(df.columns)))"
   ]
  },
  {
   "cell_type": "code",
   "execution_count": 4,
   "metadata": {},
   "outputs": [
    {
     "name": "stdout",
     "output_type": "stream",
     "text": [
      "+---------+---------+---------------+--------------+-----------+------+-------+------+-------+----------+\n",
      "|techootro|cielorazo|abastaguadentro|abastaguafuera|abastaguano|public|planpri|noelec|coopele|sanitario1|\n",
      "+---------+---------+---------------+--------------+-----------+------+-------+------+-------+----------+\n",
      "|        0|        1|              1|             0|          0|     1|      0|     0|      0|         0|\n",
      "|        0|        1|              1|             0|          0|     1|      0|     0|      0|         0|\n",
      "|        0|        1|              1|             0|          0|     1|      0|     0|      0|         0|\n",
      "|        0|        1|              1|             0|          0|     1|      0|     0|      0|         0|\n",
      "|        0|        1|              1|             0|          0|     1|      0|     0|      0|         0|\n",
      "|        0|        1|              1|             0|          0|     1|      0|     0|      0|         0|\n",
      "|        0|        1|              1|             0|          0|     1|      0|     0|      0|         0|\n",
      "|        0|        1|              1|             0|          0|     1|      0|     0|      0|         0|\n",
      "|        0|        1|              1|             0|          0|     1|      0|     0|      0|         0|\n",
      "|        0|        1|              1|             0|          0|     1|      0|     0|      0|         0|\n",
      "+---------+---------+---------------+--------------+-----------+------+-------+------+-------+----------+\n",
      "only showing top 10 rows\n",
      "\n"
     ]
    }
   ],
   "source": [
    "boolean_show = df.select(df.columns[40:50]).show(10)\n",
    "boolean_show"
   ]
  },
  {
   "cell_type": "code",
   "execution_count": 7,
   "metadata": {},
   "outputs": [
    {
     "data": {
      "text/plain": [
       "<matplotlib.axes._subplots.AxesSubplot at 0x7fa5d8daad30>"
      ]
     },
     "execution_count": 7,
     "metadata": {},
     "output_type": "execute_result"
    },
    {
     "data": {
      "image/png": "[encoded data removed]",
      "text/plain": [
       "<Figure size 432x288 with 1 Axes>"
      ]
     },
     "metadata": {},
     "output_type": "display_data"
    }
   ],
   "source": [
    "import seaborn as sns\n",
    "\n",
    "sns.countplot(\"paredfibras\",data=df.toPandas())"
   ]
  },
  {
   "cell_type": "code",
   "execution_count": 8,
   "metadata": {},
   "outputs": [
    {
     "data": {
      "text/plain": [
       "<matplotlib.axes._subplots.AxesSubplot at 0x7fa5d8daa1d0>"
      ]
     },
     "execution_count": 8,
     "metadata": {},
     "output_type": "execute_result"
    },
    {
     "data": {
      "image/png": "[encoded data removed]",
      "text/plain": [
       "<Figure size 432x288 with 1 Axes>"
      ]
     },
     "metadata": {},
     "output_type": "display_data"
    }
   ],
   "source": [
    "sns.boxplot(x = 'Target', y = 'meaneduc', hue='male', data = df.toPandas())"
   ]
  },
  {
   "cell_type": "code",
   "execution_count": 9,
   "metadata": {},
   "outputs": [
    {
     "data": {
      "text/plain": [
       "<matplotlib.axes._subplots.AxesSubplot at 0x7fa5d8db45c0>"
      ]
     },
     "execution_count": 9,
     "metadata": {},
     "output_type": "execute_result"
    },
    {
     "data": {
      "image/png": "[encoded data removed]",
      "text/plain": [
       "<Figure size 432x288 with 1 Axes>"
      ]
     },
     "metadata": {},
     "output_type": "display_data"
    }
   ],
   "source": [
    "sns.countplot(\"Target\", data=df.toPandas())"
   ]
  },
  {
   "cell_type": "code",
   "execution_count": 10,
   "metadata": {},
   "outputs": [
    {
     "name": "stdout",
     "output_type": "stream",
     "text": [
      "+---------+------------+-----------+------+\n",
      "|  idhogar|          Id|parentesco1|Target|\n",
      "+---------+------------+-----------+------+\n",
      "|0172ab1d9|ID_a5e2b0639|          0|     3|\n",
      "|0172ab1d9|ID_5dfdf4ebe|          0|     2|\n",
      "|0172ab1d9|ID_762e1fd96|          0|     3|\n",
      "|0172ab1d9|ID_c76b87004|          1|     3|\n",
      "|0172ab1d9|ID_1dffe3dcf|          0|     2|\n",
      "+---------+------------+-----------+------+\n",
      "\n"
     ]
    }
   ],
   "source": [
    "df.filter(df.idhogar == '0172ab1d9').select('idhogar', 'Id', 'parentesco1', 'Target').show()"
   ]
  },
  {
   "cell_type": "code",
   "execution_count": 11,
   "metadata": {},
   "outputs": [
    {
     "name": "stdout",
     "output_type": "stream",
     "text": [
      "+------------+---------+----------+------+------+\n",
      "|          Id|  idhogar|dependency|edjefe|edjefa|\n",
      "+------------+---------+----------+------+------+\n",
      "|ID_279628684|21eb7fcc1|        no|    10|    no|\n",
      "|ID_f29eb3ddd|0e5d7a658|         8|    12|    no|\n",
      "|ID_68de51c94|2c7317ea8|         8|    no|    11|\n",
      "|ID_d671db89c|2b58d945f|       yes|    11|    no|\n",
      "|ID_d56d6f5f5|2b58d945f|       yes|    11|    no|\n",
      "|ID_ec05b1a7b|2b58d945f|       yes|    11|    no|\n",
      "|ID_e9e0c1100|2b58d945f|       yes|    11|    no|\n",
      "|ID_3e04e571e|d6dae86b7|       yes|     9|    no|\n",
      "|ID_1284f8aad|d6dae86b7|       yes|     9|    no|\n",
      "|ID_51f52fdd2|d6dae86b7|       yes|     9|    no|\n",
      "|ID_db44f5c59|d6dae86b7|       yes|     9|    no|\n",
      "|ID_de822510c|bb2094100|       yes|    no|    11|\n",
      "|ID_d94071d7c|bb2094100|       yes|    no|    11|\n",
      "|ID_064b57869|c51f9c774|       yes|    no|     4|\n",
      "|ID_5c837d8a4|c51f9c774|       yes|    no|     4|\n",
      "|ID_0a39e419e|6893e65ca|         3|    no|    10|\n",
      "|ID_4ff51f90c|6893e65ca|         3|    no|    10|\n",
      "|ID_336c51386|6893e65ca|         3|    no|    10|\n",
      "|ID_c51938edf|6893e65ca|         3|    no|    10|\n",
      "|ID_35b66f7c6|d29058053|        no|    15|    no|\n",
      "+------------+---------+----------+------+------+\n",
      "only showing top 20 rows\n",
      "\n"
     ]
    }
   ],
   "source": [
    "columnList = [item[0] for item in df.dtypes if item[1].startswith('string')]\n",
    "df.select(columnList).show()"
   ]
  },
  {
   "cell_type": "code",
   "execution_count": 12,
   "metadata": {
    "scrolled": true
   },
   "outputs": [
    {
     "name": "stdout",
     "output_type": "stream",
     "text": [
      "+---+----+------+-----+------+----+------+----+-----+----+----+----+----+----+----+----+----+----+------+------+--------+-------+------+-----------+-----------+---------+--------+--------+---------+-----------+----------+----------+-----------+---------+---------+-----------+----------+---------+--------------+---------+---------+---------+---------------+--------------+-----------+------+-------+------+-------+----------+----------+----------+----------+----------+-------------+-------------+-------------+-------------+---------+---------+---------+---------+---------+---------+-------+-------+-------+-------+-------+-------+-----+-----+-----+---+----+------+------------+------------+------------+------------+------------+------------+------------+-----------+-----------+-----------+-----------+-----------+-----------+-----------+-----------+-----------+------------+------------+------------+-------+---------+----------+-----------+-----------+----------+------+------+--------+----------+----------+----------+----------+----------+----------+----------+----------+----------+--------+------------+---------+---------+---------+---------+---------+--------+----------+-----------+------------+------+------+------+------+------+------+-----+-----+---+-----------+------+--------------+---------+------------+---------------+-------------+---------+-----+------+\n",
      "| Id|v2a1|hacdor|rooms|hacapo|v14a|refrig|v18q|v18q1|r4h1|r4h2|r4h3|r4m1|r4m2|r4m3|r4t1|r4t2|r4t3|tamhog|tamviv|escolari|rez_esc|hhsize|paredblolad|paredzocalo|paredpreb|pareddes|paredmad|paredzinc|paredfibras|paredother|pisomoscer|pisocemento|pisoother|pisonatur|pisonotiene|pisomadera|techozinc|techoentrepiso|techocane|techootro|cielorazo|abastaguadentro|abastaguafuera|abastaguano|public|planpri|noelec|coopele|sanitario1|sanitario2|sanitario3|sanitario5|sanitario6|energcocinar1|energcocinar2|energcocinar3|energcocinar4|elimbasu1|elimbasu2|elimbasu3|elimbasu4|elimbasu5|elimbasu6|epared1|epared2|epared3|etecho1|etecho2|etecho3|eviv1|eviv2|eviv3|dis|male|female|estadocivil1|estadocivil2|estadocivil3|estadocivil4|estadocivil5|estadocivil6|estadocivil7|parentesco1|parentesco2|parentesco3|parentesco4|parentesco5|parentesco6|parentesco7|parentesco8|parentesco9|parentesco10|parentesco11|parentesco12|idhogar|hogar_nin|hogar_adul|hogar_mayor|hogar_total|dependency|edjefe|edjefa|meaneduc|instlevel1|instlevel2|instlevel3|instlevel4|instlevel5|instlevel6|instlevel7|instlevel8|instlevel9|bedrooms|overcrowding|tipovivi1|tipovivi2|tipovivi3|tipovivi4|tipovivi5|computer|television|mobilephone|qmobilephone|lugar1|lugar2|lugar3|lugar4|lugar5|lugar6|area1|area2|age|SQBescolari|SQBage|SQBhogar_total|SQBedjefe|SQBhogar_nin|SQBovercrowding|SQBdependency|SQBmeaned|agesq|Target|\n",
      "+---+----+------+-----+------+----+------+----+-----+----+----+----+----+----+----+----+----+----+------+------+--------+-------+------+-----------+-----------+---------+--------+--------+---------+-----------+----------+----------+-----------+---------+---------+-----------+----------+---------+--------------+---------+---------+---------+---------------+--------------+-----------+------+-------+------+-------+----------+----------+----------+----------+----------+-------------+-------------+-------------+-------------+---------+---------+---------+---------+---------+---------+-------+-------+-------+-------+-------+-------+-----+-----+-----+---+----+------+------------+------------+------------+------------+------------+------------+------------+-----------+-----------+-----------+-----------+-----------+-----------+-----------+-----------+-----------+------------+------------+------------+-------+---------+----------+-----------+-----------+----------+------+------+--------+----------+----------+----------+----------+----------+----------+----------+----------+----------+--------+------------+---------+---------+---------+---------+---------+--------+----------+-----------+------------+------+------+------+------+------+------+-----+-----+---+-----------+------+--------------+---------+------------+---------------+-------------+---------+-----+------+\n",
      "|  0|6860|     0|    0|     0|   0|     0|   0| 7342|   0|   0|   0|   0|   0|   0|   0|   0|   0|     0|     0|       0|   7928|     0|          0|          0|        0|       0|       0|        0|          0|         0|         0|          0|        0|        0|          0|         0|        0|             0|        0|        0|        0|              0|             0|          0|     0|      0|     0|      0|         0|         0|         0|         0|         0|            0|            0|            0|            0|        0|        0|        0|        0|        0|        0|      0|      0|      0|      0|      0|      0|    0|    0|    0|  0|   0|     0|           0|           0|           0|           0|           0|           0|           0|          0|          0|          0|          0|          0|          0|          0|          0|          0|           0|           0|           0|      0|        0|         0|          0|          0|         0|     0|     0|       5|         0|         0|         0|         0|         0|         0|         0|         0|         0|       0|           0|        0|        0|        0|        0|        0|       0|         0|          0|           0|     0|     0|     0|     0|     0|     0|    0|    0|  0|          0|     0|             0|        0|           0|              0|            0|        5|    0|     0|\n",
      "+---+----+------+-----+------+----+------+----+-----+----+----+----+----+----+----+----+----+----+------+------+--------+-------+------+-----------+-----------+---------+--------+--------+---------+-----------+----------+----------+-----------+---------+---------+-----------+----------+---------+--------------+---------+---------+---------+---------------+--------------+-----------+------+-------+------+-------+----------+----------+----------+----------+----------+-------------+-------------+-------------+-------------+---------+---------+---------+---------+---------+---------+-------+-------+-------+-------+-------+-------+-----+-----+-----+---+----+------+------------+------------+------------+------------+------------+------------+------------+-----------+-----------+-----------+-----------+-----------+-----------+-----------+-----------+-----------+------------+------------+------------+-------+---------+----------+-----------+-----------+----------+------+------+--------+----------+----------+----------+----------+----------+----------+----------+----------+----------+--------+------------+---------+---------+---------+---------+---------+--------+----------+-----------+------------+------+------+------+------+------+------+-----+-----+---+-----------+------+--------------+---------+------------+---------------+-------------+---------+-----+------+\n",
      "\n"
     ]
    }
   ],
   "source": [
    "from pyspark.sql.functions import isnull, when, count, col\n",
    "nacounts = df.select([count(when(isnull(c), c)).alias(c) for c in df.columns]).show()\n",
    "nacounts\n"
   ]
  },
  {
   "cell_type": "code",
   "execution_count": 13,
   "metadata": {},
   "outputs": [
    {
     "name": "stdout",
     "output_type": "stream",
     "text": [
      "+------+-----+\n",
      "|edjefe|count|\n",
      "+------+-----+\n",
      "|     7|  234|\n",
      "|    15|  285|\n",
      "|    11|  751|\n",
      "|     3|  307|\n",
      "|     8|  257|\n",
      "|    16|  134|\n",
      "|     5|  222|\n",
      "|    18|   19|\n",
      "|    17|  202|\n",
      "|     6| 1845|\n",
      "|    19|   14|\n",
      "|     9|  486|\n",
      "|    no| 3762|\n",
      "|    20|    7|\n",
      "|    10|  111|\n",
      "|   yes|  123|\n",
      "|     4|  137|\n",
      "|    12|  113|\n",
      "|    13|  103|\n",
      "|    14|  208|\n",
      "+------+-----+\n",
      "only showing top 20 rows\n",
      "\n"
     ]
    }
   ],
   "source": [
    "edjefe_count = df.groupBy('edjefe').count().show()\n",
    "edjefe_count"
   ]
  },
  {
   "cell_type": "code",
   "execution_count": 5,
   "metadata": {},
   "outputs": [
    {
     "name": "stdout",
     "output_type": "stream",
     "text": [
      "+---------+-----+\n",
      "|  idhogar|count|\n",
      "+---------+-----+\n",
      "|fd8a6d014|   13|\n",
      "|0c7436de6|   12|\n",
      "|ae6cf0558|   12|\n",
      "|3fe29a56b|   11|\n",
      "|4476ccd4c|   11|\n",
      "|6b35cdcf0|   11|\n",
      "|b7a0b59d7|   11|\n",
      "|63f11d6ea|   10|\n",
      "|a18c0c0be|   10|\n",
      "|f2a4cd356|   10|\n",
      "|0fc6c05f7|   10|\n",
      "|7cad2d6c4|   10|\n",
      "|6a96a96c0|   10|\n",
      "|322cefd2f|    9|\n",
      "|476b3f2ee|    9|\n",
      "|ae489f548|    9|\n",
      "|efec7e82c|    9|\n",
      "|06ca88023|    9|\n",
      "|d43a04997|    9|\n",
      "|9fd143d1f|    9|\n",
      "+---------+-----+\n",
      "only showing top 20 rows\n",
      "\n"
     ]
    }
   ],
   "source": [
    "#3.1\tSelect data\n",
    "\n",
    "# Get the count for each idhogar\n",
    "idhogar_count = df.groupBy('idhogar').count().sort(\"count\", ascending=False)\n",
    "idhogar_count.show()"
   ]
  },
  {
   "cell_type": "code",
   "execution_count": 6,
   "metadata": {},
   "outputs": [
    {
     "name": "stdout",
     "output_type": "stream",
     "text": [
      "(9557, 144)\n"
     ]
    }
   ],
   "source": [
    "## merge the count as a column to dataset for the filter later\n",
    "\n",
    "df31 = df.join(idhogar_count, on='idhogar', how ='inner')\n",
    "print((df31.count(), len(df31.columns)))"
   ]
  },
  {
   "cell_type": "code",
   "execution_count": 7,
   "metadata": {},
   "outputs": [
    {
     "name": "stdout",
     "output_type": "stream",
     "text": [
      "+---------+-----+\n",
      "|  idhogar|count|\n",
      "+---------+-----+\n",
      "|b83dfb5a3|    7|\n",
      "|695bc249d|    7|\n",
      "|1f89d80f0|    7|\n",
      "|19949f9d0|    7|\n",
      "|d83d94ba0|    7|\n",
      "|49ae51a36|    7|\n",
      "|d4bce9879|    7|\n",
      "|af5a4dc40|    7|\n",
      "|b8618998c|    7|\n",
      "|0592dc939|    7|\n",
      "+---------+-----+\n",
      "only showing top 10 rows\n",
      "\n"
     ]
    }
   ],
   "source": [
    "## filter the data with count over 8\n",
    "\n",
    "df31 = df31.filter('count < 8')\n",
    "df31.groupBy('idhogar').count().sort(\"count\", ascending=False).show(10)"
   ]
  },
  {
   "cell_type": "code",
   "execution_count": 8,
   "metadata": {},
   "outputs": [
    {
     "data": {
      "text/plain": [
       "DataFrame[idhogar: string, v2a1: double, hacdor: int, rooms: int, hacapo: int, v14a: int, refrig: int, v18q: int, v18q1: int, r4h1: int, r4h2: int, r4h3: int, r4m1: int, r4m2: int, r4m3: int, r4t1: int, r4t2: int, r4t3: int, tamhog: int, tamviv: int, escolari: int, rez_esc: int, hhsize: int, paredblolad: int, paredzocalo: int, paredpreb: int, pareddes: int, paredmad: int, paredzinc: int, paredfibras: int, paredother: int, pisomoscer: int, pisocemento: int, pisoother: int, pisonatur: int, pisonotiene: int, pisomadera: int, techozinc: int, techoentrepiso: int, techocane: int, techootro: int, cielorazo: int, abastaguadentro: int, abastaguafuera: int, abastaguano: int, public: int, planpri: int, noelec: int, coopele: int, sanitario1: int, sanitario2: int, sanitario3: int, sanitario5: int, sanitario6: int, energcocinar1: int, energcocinar2: int, energcocinar3: int, energcocinar4: int, elimbasu1: int, elimbasu2: int, elimbasu3: int, elimbasu4: int, elimbasu5: int, elimbasu6: int, epared1: int, epared2: int, epared3: int, etecho1: int, etecho2: int, etecho3: int, eviv1: int, eviv2: int, eviv3: int, dis: int, male: int, female: int, estadocivil1: int, estadocivil2: int, estadocivil3: int, estadocivil4: int, estadocivil5: int, estadocivil6: int, estadocivil7: int, parentesco1: int, parentesco2: int, parentesco3: int, parentesco4: int, parentesco5: int, parentesco6: int, parentesco7: int, parentesco8: int, parentesco9: int, parentesco10: int, parentesco11: int, parentesco12: int, hogar_nin: int, hogar_adul: int, hogar_mayor: int, hogar_total: int, dependency: string, edjefe: string, edjefa: string, meaneduc: double, instlevel1: int, instlevel2: int, instlevel3: int, instlevel4: int, instlevel5: int, instlevel6: int, instlevel7: int, instlevel8: int, instlevel9: int, bedrooms: int, overcrowding: double, tipovivi1: int, tipovivi2: int, tipovivi3: int, tipovivi4: int, tipovivi5: int, computer: int, television: int, mobilephone: int, qmobilephone: int, lugar1: int, lugar2: int, lugar3: int, lugar4: int, lugar5: int, lugar6: int, area1: int, area2: int, age: int, Target: int, count: bigint]"
      ]
     },
     "execution_count": 8,
     "metadata": {},
     "output_type": "execute_result"
    }
   ],
   "source": [
    "## delect useless columns\n",
    "\n",
    "df31 = df31.drop('Id', 'SQBescolari', 'SQBage', 'SQBhogar_total', 'SQBedjefe', 'SQBhogar_nin', 'SQBovercrowding', 'SQBdependency', 'SQBmeaned', 'agesq')\n",
    "df31"
   ]
  },
  {
   "cell_type": "code",
   "execution_count": 18,
   "metadata": {},
   "outputs": [],
   "source": [
    "#3.2\tClean data (missing values)\n",
    "\n",
    "import pyspark.sql.functions as F\n",
    "def count_missings(spark_df31,sort=True):\n",
    "    \"\"\"\n",
    "    Counts number of nulls and nans in each column\n",
    "    \"\"\"\n",
    "    df31 = spark_df31.select([F.count(F.when(F.isnan(c) | F.isnull(c), c)).alias(c) for (c,c_type) in spark_df31.dtypes if c_type not in ('timestamp', 'string', 'date')]).toPandas()\n",
    "\n",
    "    if len(df31) == 0:\n",
    "        print(\"There are no any missing values!\")\n",
    "        return None\n",
    "\n",
    "    if sort:\n",
    "        return df31.rename(index={0: 'count'}).T.sort_values(\"count\",ascending=False)\n",
    "\n",
    "    return df31\n"
   ]
  },
  {
   "cell_type": "code",
   "execution_count": 19,
   "metadata": {},
   "outputs": [
    {
     "data": {
      "text/html": [
       "<div>\n",
       "<style scoped>\n",
       "    .dataframe tbody tr th:only-of-type {\n",
       "        vertical-align: middle;\n",
       "    }\n",
       "\n",
       "    .dataframe tbody tr th {\n",
       "        vertical-align: top;\n",
       "    }\n",
       "\n",
       "    .dataframe thead th {\n",
       "        text-align: right;\n",
       "    }\n",
       "</style>\n",
       "<table border=\"1\" class=\"dataframe\">\n",
       "  <thead>\n",
       "    <tr style=\"text-align: right;\">\n",
       "      <th></th>\n",
       "      <th>count</th>\n",
       "    </tr>\n",
       "  </thead>\n",
       "  <tbody>\n",
       "    <tr>\n",
       "      <th>rez_esc</th>\n",
       "      <td>7686</td>\n",
       "    </tr>\n",
       "    <tr>\n",
       "      <th>v18q1</th>\n",
       "      <td>7055</td>\n",
       "    </tr>\n",
       "    <tr>\n",
       "      <th>v2a1</th>\n",
       "      <td>6608</td>\n",
       "    </tr>\n",
       "    <tr>\n",
       "      <th>meaneduc</th>\n",
       "      <td>5</td>\n",
       "    </tr>\n",
       "    <tr>\n",
       "      <th>hogar_nin</th>\n",
       "      <td>0</td>\n",
       "    </tr>\n",
       "    <tr>\n",
       "      <th>parentesco12</th>\n",
       "      <td>0</td>\n",
       "    </tr>\n",
       "    <tr>\n",
       "      <th>parentesco11</th>\n",
       "      <td>0</td>\n",
       "    </tr>\n",
       "    <tr>\n",
       "      <th>hogar_adul</th>\n",
       "      <td>0</td>\n",
       "    </tr>\n",
       "    <tr>\n",
       "      <th>parentesco10</th>\n",
       "      <td>0</td>\n",
       "    </tr>\n",
       "    <tr>\n",
       "      <th>parentesco2</th>\n",
       "      <td>0</td>\n",
       "    </tr>\n",
       "  </tbody>\n",
       "</table>\n",
       "</div>"
      ],
      "text/plain": [
       "              count\n",
       "rez_esc        7686\n",
       "v18q1          7055\n",
       "v2a1           6608\n",
       "meaneduc          5\n",
       "hogar_nin         0\n",
       "parentesco12      0\n",
       "parentesco11      0\n",
       "hogar_adul        0\n",
       "parentesco10      0\n",
       "parentesco2       0"
      ]
     },
     "execution_count": 19,
     "metadata": {},
     "output_type": "execute_result"
    }
   ],
   "source": [
    "count_missings(df31)[:10]"
   ]
  },
  {
   "cell_type": "code",
   "execution_count": 9,
   "metadata": {},
   "outputs": [],
   "source": [
    "## drop three variables with large number of missing values\n",
    "\n",
    "df32 = df31.drop('rez_esc', 'v18q1', 'v2a1')"
   ]
  },
  {
   "cell_type": "code",
   "execution_count": 21,
   "metadata": {},
   "outputs": [
    {
     "name": "stdout",
     "output_type": "stream",
     "text": [
      "(9230, 131)\n"
     ]
    }
   ],
   "source": [
    "print((df32.count(), len(df32.columns)))"
   ]
  },
  {
   "cell_type": "code",
   "execution_count": 10,
   "metadata": {},
   "outputs": [
    {
     "name": "stdout",
     "output_type": "stream",
     "text": [
      "(9225, 131)\n"
     ]
    }
   ],
   "source": [
    "## drop only 5 missing rows of meaneduc\n",
    "\n",
    "df32 = df32.na.drop()\n",
    "print((df32.count(), len(df32.columns)))"
   ]
  },
  {
   "cell_type": "code",
   "execution_count": 23,
   "metadata": {},
   "outputs": [
    {
     "data": {
      "text/plain": [
       "243"
      ]
     },
     "execution_count": 23,
     "metadata": {},
     "output_type": "execute_result"
    }
   ],
   "source": [
    "import gc\n",
    "del df\n",
    "del df31\n",
    "del nacounts\n",
    "del edjefe_count\n",
    "del idhogar_count\n",
    "del columnList\n",
    "del boolean_show\n",
    "gc.collect()"
   ]
  },
  {
   "cell_type": "code",
   "execution_count": 24,
   "metadata": {},
   "outputs": [
    {
     "name": "stdout",
     "output_type": "stream",
     "text": [
      "+------------------+-----+\n",
      "|          meaneduc|count|\n",
      "+------------------+-----+\n",
      "|              15.5|  117|\n",
      "|             14.75|    8|\n",
      "|               8.0|  298|\n",
      "|              10.2|    6|\n",
      "|         5.6666665|   47|\n",
      "|         3.6666667|   16|\n",
      "|              8.75|   34|\n",
      "|               0.0|   71|\n",
      "|              11.4|    6|\n",
      "|               7.0|  306|\n",
      "|              11.5|  162|\n",
      "|               3.5|  108|\n",
      "|         5.3333335|   38|\n",
      "|               9.5|  203|\n",
      "|             10.25|   37|\n",
      "|              11.6|    5|\n",
      "|        0.33333334|    3|\n",
      "|         8.6000004|   18|\n",
      "|              20.5|    8|\n",
      "|14.333332999999998|   51|\n",
      "+------------------+-----+\n",
      "only showing top 20 rows\n",
      "\n"
     ]
    },
    {
     "data": {
      "image/png": "[encoded data removed]",
      "text/plain": [
       "<Figure size 432x288 with 1 Axes>"
      ]
     },
     "metadata": {},
     "output_type": "display_data"
    }
   ],
   "source": [
    "#3.2\tClean data (outliers)\n",
    "\n",
    "import matplotlib.pyplot as plt\n",
    "\n",
    "plt.boxplot(\"meaneduc\",data = df32.toPandas())\n",
    "df32.groupBy('meaneduc').count().show()"
   ]
  },
  {
   "cell_type": "code",
   "execution_count": 11,
   "metadata": {},
   "outputs": [
    {
     "data": {
      "text/plain": [
       "{'m_avg': 9.28637939861466, 'm_sd': 4.1968100597803595}"
      ]
     },
     "execution_count": 11,
     "metadata": {},
     "output_type": "execute_result"
    }
   ],
   "source": [
    "import pyspark.sql.functions as F\n",
    "\n",
    "stats = df32.agg(\n",
    "    F.stddev_pop(F.col('meaneduc')).alias(\"m_sd\"),\n",
    "    F.mean(F.col('meaneduc')).alias(\"m_avg\")).first().asDict()\n",
    "stats"
   ]
  },
  {
   "cell_type": "code",
   "execution_count": 12,
   "metadata": {},
   "outputs": [],
   "source": [
    "## Z-score\n",
    "\n",
    "df32 = df32.withColumn(\n",
    "    'meaneduc_z', F.abs(df32['meaneduc'] - stats['m_avg'])/stats['m_sd']\n",
    "               )"
   ]
  },
  {
   "cell_type": "code",
   "execution_count": 14,
   "metadata": {},
   "outputs": [
    {
     "name": "stdout",
     "output_type": "stream",
     "text": [
      "+------------------+-----+\n",
      "|          meaneduc|count|\n",
      "+------------------+-----+\n",
      "|              15.5|  117|\n",
      "|             14.75|    8|\n",
      "|               8.0|  298|\n",
      "|              10.2|    6|\n",
      "|         5.6666665|   47|\n",
      "|         3.6666667|   16|\n",
      "|              8.75|   34|\n",
      "|              11.4|    6|\n",
      "|               7.0|  306|\n",
      "|              11.5|  162|\n",
      "|               3.5|  108|\n",
      "|         5.3333335|   38|\n",
      "|               9.5|  203|\n",
      "|             10.25|   37|\n",
      "|              11.6|    5|\n",
      "|         8.6000004|   18|\n",
      "|14.333332999999998|   51|\n",
      "|              12.5|  114|\n",
      "|               4.5|  154|\n",
      "|         4.5999999|    7|\n",
      "+------------------+-----+\n",
      "only showing top 20 rows\n",
      "\n"
     ]
    },
    {
     "data": {
      "text/plain": [
       "{'boxes': [<matplotlib.lines.Line2D at 0x7f211932e7f0>],\n",
       " 'caps': [<matplotlib.lines.Line2D at 0x7f211933fa20>,\n",
       "  <matplotlib.lines.Line2D at 0x7f21192d9390>],\n",
       " 'fliers': [<matplotlib.lines.Line2D at 0x7f2119305160>],\n",
       " 'means': [],\n",
       " 'medians': [<matplotlib.lines.Line2D at 0x7f21192fedd8>],\n",
       " 'whiskers': [<matplotlib.lines.Line2D at 0x7f211932eb70>,\n",
       "  <matplotlib.lines.Line2D at 0x7f211933c4a8>]}"
      ]
     },
     "execution_count": 14,
     "metadata": {},
     "output_type": "execute_result"
    }
   ],
   "source": [
    "import matplotlib.pyplot as plt\n",
    "df32 = df32.filter('meaneduc_z <= 2')\n",
    "df32.groupBy('meaneduc').count().show()\n",
    "plt.boxplot(\"meaneduc\",data = df32.toPandas())"
   ]
  },
  {
   "cell_type": "code",
   "execution_count": 28,
   "metadata": {},
   "outputs": [
    {
     "name": "stdout",
     "output_type": "stream",
     "text": [
      "(8888, 132)\n"
     ]
    }
   ],
   "source": [
    "print((df32.count(), len(df32.columns)))"
   ]
  },
  {
   "cell_type": "code",
   "execution_count": 15,
   "metadata": {},
   "outputs": [
    {
     "name": "stdout",
     "output_type": "stream",
     "text": [
      "+------+-----+\n",
      "|edjefe|count|\n",
      "+------+-----+\n",
      "|     7|  224|\n",
      "|    15|  260|\n",
      "|    11|  731|\n",
      "|     3|  290|\n",
      "|     8|  247|\n",
      "|    16|  126|\n",
      "|     5|  213|\n",
      "|    18|   15|\n",
      "|    17|  171|\n",
      "|     6| 1809|\n",
      "|    19|    7|\n",
      "|     9|  446|\n",
      "|    no| 3390|\n",
      "|    20|    7|\n",
      "|    10|  111|\n",
      "|   yes|  108|\n",
      "|     4|  135|\n",
      "|    12|  111|\n",
      "|    13|  103|\n",
      "|    14|  182|\n",
      "+------+-----+\n",
      "only showing top 20 rows\n",
      "\n"
     ]
    }
   ],
   "source": [
    "#3.2\tClean data (errors)\n",
    "\n",
    "df32.groupBy('edjefe').count().show()"
   ]
  },
  {
   "cell_type": "code",
   "execution_count": 16,
   "metadata": {},
   "outputs": [
    {
     "name": "stdout",
     "output_type": "stream",
     "text": [
      "+------+-----+\n",
      "|edjefe|count|\n",
      "+------+-----+\n",
      "|     7|  224|\n",
      "|    15|  260|\n",
      "|    11|  731|\n",
      "|     3|  290|\n",
      "|     8|  247|\n",
      "|    16|  126|\n",
      "|     0| 3390|\n",
      "|     5|  213|\n",
      "|    18|   15|\n",
      "|    17|  171|\n",
      "|     6| 1809|\n",
      "|    19|    7|\n",
      "|     9|  446|\n",
      "|     1|  108|\n",
      "|    20|    7|\n",
      "|    10|  111|\n",
      "|     4|  135|\n",
      "|    12|  111|\n",
      "|    13|  103|\n",
      "|    14|  182|\n",
      "+------+-----+\n",
      "only showing top 20 rows\n",
      "\n"
     ]
    }
   ],
   "source": [
    "from pyspark.sql.functions import *\n",
    "\n",
    "df32 = df32.withColumn('edjefe', regexp_replace('edjefe', 'yes', '1'))\n",
    "df32 = df32.withColumn('edjefe', regexp_replace('edjefe', 'no', '0'))\n",
    "df32.groupBy('edjefe').count().show()\n"
   ]
  },
  {
   "cell_type": "code",
   "execution_count": 17,
   "metadata": {},
   "outputs": [
    {
     "name": "stdout",
     "output_type": "stream",
     "text": [
      "+------+-----+\n",
      "|edjefa|count|\n",
      "+------+-----+\n",
      "|     7|  224|\n",
      "|    15|  260|\n",
      "|    11|  731|\n",
      "|     3|  290|\n",
      "|     8|  247|\n",
      "|    16|  126|\n",
      "|     0| 3390|\n",
      "|     5|  213|\n",
      "|    18|   15|\n",
      "|    17|  171|\n",
      "|     6| 1809|\n",
      "|    19|    7|\n",
      "|     9|  446|\n",
      "|     1|  108|\n",
      "|    20|    7|\n",
      "|    10|  111|\n",
      "|     4|  135|\n",
      "|    12|  111|\n",
      "|    13|  103|\n",
      "|    14|  182|\n",
      "+------+-----+\n",
      "only showing top 20 rows\n",
      "\n"
     ]
    }
   ],
   "source": [
    "df32 = df32.withColumn('edjefa', regexp_replace('edjefe', 'yes', '1'))\n",
    "df32 = df32.withColumn('edjefa', regexp_replace('edjefe', 'no', '0'))\n",
    "df32.groupBy('edjefa').count().show()"
   ]
  },
  {
   "cell_type": "code",
   "execution_count": 32,
   "metadata": {},
   "outputs": [
    {
     "name": "stdout",
     "output_type": "stream",
     "text": [
      "+----------+-----+\n",
      "|dependency|count|\n",
      "+----------+-----+\n",
      "| .33333334|  570|\n",
      "|         3|  184|\n",
      "|         8|  335|\n",
      "|       2.5|   70|\n",
      "|         5|   18|\n",
      "| 1.3333334|   84|\n",
      "|        .2|   90|\n",
      "|         6|    7|\n",
      "| .40000001|   84|\n",
      "| .66666669|  467|\n",
      "|       1.5|  657|\n",
      "|        .5| 1452|\n",
      "| .16666667|    7|\n",
      "|        no| 1732|\n",
      "|       yes| 2057|\n",
      "|       .25|  250|\n",
      "|         4|   85|\n",
      "|       .75|   98|\n",
      "|         2|  641|\n",
      "+----------+-----+\n",
      "\n"
     ]
    }
   ],
   "source": [
    "#3.3\tConstruct data\n",
    "df32.groupBy('dependency').count().show()"
   ]
  },
  {
   "cell_type": "code",
   "execution_count": 18,
   "metadata": {},
   "outputs": [],
   "source": [
    "df33 = df32.withColumn(\n",
    "    'dependency_rate', (df32['hogar_nin']+ df32['hogar_mayor'])/df32['hogar_total']\n",
    "               )"
   ]
  },
  {
   "cell_type": "code",
   "execution_count": 34,
   "metadata": {},
   "outputs": [
    {
     "name": "stdout",
     "output_type": "stream",
     "text": [
      "+-------------------+-----+\n",
      "|    dependency_rate|count|\n",
      "+-------------------+-----+\n",
      "|                0.0| 1732|\n",
      "|                0.2|  250|\n",
      "|                1.0|  335|\n",
      "| 0.7142857142857143|   70|\n",
      "| 0.3333333333333333| 1452|\n",
      "|                0.6|  657|\n",
      "|                0.8|   85|\n",
      "|0.16666666666666666|   90|\n",
      "| 0.8571428571428571|    7|\n",
      "| 0.6666666666666666|  641|\n",
      "|                0.5| 2057|\n",
      "|               0.75|  184|\n",
      "|                0.4|  467|\n",
      "| 0.2857142857142857|   84|\n",
      "| 0.8333333333333334|   18|\n",
      "|               0.25|  570|\n",
      "|0.14285714285714285|    7|\n",
      "|0.42857142857142855|   98|\n",
      "| 0.5714285714285714|   84|\n",
      "+-------------------+-----+\n",
      "\n"
     ]
    }
   ],
   "source": [
    "df33.groupBy('dependency_rate').count().show()"
   ]
  },
  {
   "cell_type": "code",
   "execution_count": 19,
   "metadata": {},
   "outputs": [
    {
     "data": {
      "text/plain": [
       "303"
      ]
     },
     "execution_count": 19,
     "metadata": {},
     "output_type": "execute_result"
    }
   ],
   "source": [
    "import gc\n",
    "del df32\n",
    "del stats\n",
    "gc.collect()"
   ]
  },
  {
   "cell_type": "code",
   "execution_count": 20,
   "metadata": {},
   "outputs": [
    {
     "name": "stdout",
     "output_type": "stream",
     "text": [
      "+---------+-------+\n",
      "|  idhogar|Target2|\n",
      "+---------+-------+\n",
      "|21eb7fcc1|      4|\n",
      "|0e5d7a658|      4|\n",
      "|2c7317ea8|      4|\n",
      "|2b58d945f|      4|\n",
      "|d6dae86b7|      4|\n",
      "+---------+-------+\n",
      "only showing top 5 rows\n",
      "\n"
     ]
    }
   ],
   "source": [
    "#3.4\tIntegrate various data sources\n",
    "\n",
    "## New column of target based on parentesco1\n",
    "\n",
    "target_head = df33.filter(df33.parentesco1== '1').select('idhogar', 'Target')\n",
    "target_head = target_head.withColumnRenamed(\"Target\", \"Target2\")\n",
    "target_head.show(5)"
   ]
  },
  {
   "cell_type": "code",
   "execution_count": 37,
   "metadata": {},
   "outputs": [
    {
     "name": "stdout",
     "output_type": "stream",
     "text": [
      "+---------+\n",
      "|  idhogar|\n",
      "+---------+\n",
      "|21eb7fcc1|\n",
      "|0e5d7a658|\n",
      "|2c7317ea8|\n",
      "|2b58d945f|\n",
      "|2b58d945f|\n",
      "+---------+\n",
      "only showing top 5 rows\n",
      "\n"
     ]
    }
   ],
   "source": [
    "df33.select('idhogar').show(5)"
   ]
  },
  {
   "cell_type": "code",
   "execution_count": 21,
   "metadata": {},
   "outputs": [],
   "source": [
    "## add Target 2 to data\n",
    "\n",
    "df34 = df33.join(target_head, on='idhogar',how='left')"
   ]
  },
  {
   "cell_type": "code",
   "execution_count": 22,
   "metadata": {},
   "outputs": [
    {
     "name": "stdout",
     "output_type": "stream",
     "text": [
      "+---------+-----------+------+-------+\n",
      "|  idhogar|parentesco1|Target|Target2|\n",
      "+---------+-----------+------+-------+\n",
      "|0172ab1d9|          0|     3|      3|\n",
      "|0172ab1d9|          0|     2|      3|\n",
      "|0172ab1d9|          0|     3|      3|\n",
      "|0172ab1d9|          1|     3|      3|\n",
      "|0172ab1d9|          0|     2|      3|\n",
      "+---------+-----------+------+-------+\n",
      "\n"
     ]
    }
   ],
   "source": [
    "df34.filter(df34.idhogar == '0172ab1d9').select('idhogar','parentesco1', 'Target','Target2').show()"
   ]
  },
  {
   "cell_type": "code",
   "execution_count": 23,
   "metadata": {},
   "outputs": [],
   "source": [
    "#3.5\tFormat data as required\n",
    "\n",
    "df35 = df34.na.drop()"
   ]
  },
  {
   "cell_type": "code",
   "execution_count": 24,
   "metadata": {},
   "outputs": [],
   "source": [
    "## change type to int\n",
    "\n",
    "df35 = df35.withColumn(\"edjefe\",col(\"edjefe\").cast('Int')).withColumn(\"edjefa\",col(\"edjefa\").cast('Int')).withColumn(\"Target2\",col(\"Target2\").cast('Int'))"
   ]
  },
  {
   "cell_type": "code",
   "execution_count": 25,
   "metadata": {},
   "outputs": [
    {
     "data": {
      "text/plain": [
       "DataFrame[hacdor: int, rooms: int, hacapo: int, v14a: int, refrig: int, v18q: int, r4h1: int, r4h2: int, r4h3: int, r4m1: int, r4m2: int, r4m3: int, r4t1: int, r4t2: int, r4t3: int, tamhog: int, tamviv: int, escolari: int, hhsize: int, paredblolad: int, paredzocalo: int, paredpreb: int, pareddes: int, paredmad: int, paredzinc: int, paredfibras: int, paredother: int, pisomoscer: int, pisocemento: int, pisoother: int, pisonatur: int, pisonotiene: int, pisomadera: int, techozinc: int, techoentrepiso: int, techocane: int, techootro: int, cielorazo: int, abastaguadentro: int, abastaguafuera: int, abastaguano: int, public: int, planpri: int, noelec: int, coopele: int, sanitario1: int, sanitario2: int, sanitario3: int, sanitario5: int, sanitario6: int, energcocinar1: int, energcocinar2: int, energcocinar3: int, energcocinar4: int, elimbasu1: int, elimbasu2: int, elimbasu3: int, elimbasu4: int, elimbasu5: int, elimbasu6: int, epared1: int, epared2: int, epared3: int, etecho1: int, etecho2: int, etecho3: int, eviv1: int, eviv2: int, eviv3: int, dis: int, male: int, female: int, estadocivil1: int, estadocivil2: int, estadocivil3: int, estadocivil4: int, estadocivil5: int, estadocivil6: int, estadocivil7: int, parentesco1: int, parentesco2: int, parentesco3: int, parentesco4: int, parentesco5: int, parentesco6: int, parentesco7: int, parentesco8: int, parentesco9: int, parentesco10: int, parentesco11: int, parentesco12: int, hogar_nin: int, hogar_adul: int, hogar_mayor: int, hogar_total: int, edjefe: int, edjefa: int, meaneduc: double, instlevel1: int, instlevel2: int, instlevel3: int, instlevel4: int, instlevel5: int, instlevel6: int, instlevel7: int, instlevel8: int, instlevel9: int, bedrooms: int, overcrowding: double, tipovivi1: int, tipovivi2: int, tipovivi3: int, tipovivi4: int, tipovivi5: int, computer: int, television: int, mobilephone: int, qmobilephone: int, lugar1: int, lugar2: int, lugar3: int, lugar4: int, lugar5: int, lugar6: int, area1: int, area2: int, age: int, count: bigint, meaneduc_z: double, dependency_rate: double, Target2: int]"
      ]
     },
     "execution_count": 25,
     "metadata": {},
     "output_type": "execute_result"
    }
   ],
   "source": [
    "## drop useless column\n",
    "df35 = df35.drop('idhogar','dependency', 'Target')\n",
    "df35"
   ]
  },
  {
   "cell_type": "code",
   "execution_count": 26,
   "metadata": {},
   "outputs": [],
   "source": [
    "df35.toPandas().to_csv('1-3.csv')"
   ]
  },
  {
   "cell_type": "code",
   "execution_count": 27,
   "metadata": {},
   "outputs": [
    {
     "data": {
      "text/plain": [
       "35"
      ]
     },
     "execution_count": 27,
     "metadata": {},
     "output_type": "execute_result"
    }
   ],
   "source": [
    "del df33\n",
    "del target_head\n",
    "del df34\n",
    "gc.collect()"
   ]
  },
  {
   "cell_type": "code",
   "execution_count": null,
   "metadata": {},
   "outputs": [],
   "source": []
  }
 ],
 "metadata": {
  "kernelspec": {
   "display_name": "Python 3",
   "language": "python",
   "name": "python3"
  },
  "language_info": {
   "codemirror_mode": {
    "name": "ipython",
    "version": 3
   },
   "file_extension": ".py",
   "mimetype": "text/x-python",
   "name": "python",
   "nbconvert_exporter": "python",
   "pygments_lexer": "ipython3",
   "version": "3.5.2"
  }
 },
 "nbformat": 4,
 "nbformat_minor": 2
}
